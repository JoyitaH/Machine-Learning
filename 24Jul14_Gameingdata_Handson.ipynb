{
 "cells": [
  {
   "cell_type": "markdown",
   "metadata": {},
   "source": [
    "# **Note**\n",
    "\n",
    "* **PCA helps to minimize the high dimensional data into a smaller set of features that capture most of the important information. This will help simplfy the visualization**\n",
    "\n",
    "* **LDA helps create a seperation boundary using multiple features, making classification more accurate, especially when the data is having a clear underlying structure**\n",
    "\n",
    "* **We can say PCA helps in unsupervised ML models, where there are no target. In those cases, LDA can't make separation boundary since there is no distinction b/w data points due to absence of target**\n",
    "\n",
    "<hr>"
   ]
  },
  {
   "cell_type": "code",
   "execution_count": 1,
   "metadata": {},
   "outputs": [],
   "source": [
    "import pandas as pd\n",
    "import numpy as np\n",
    "import seaborn as sns\n",
    "import matplotlib.pyplot as plt"
   ]
  },
  {
   "cell_type": "code",
   "execution_count": 2,
   "metadata": {},
   "outputs": [],
   "source": [
    "import warnings\n",
    "warnings.filterwarnings(\"ignore\")"
   ]
  },
  {
   "cell_type": "code",
   "execution_count": 50,
   "metadata": {},
   "outputs": [],
   "source": [
    "from sklearn.preprocessing import LabelEncoder, StandardScaler\n",
    "from sklearn.model_selection import train_test_split\n",
    "from sklearn.discriminant_analysis import LinearDiscriminantAnalysis as LDA\n",
    "\n",
    "from sklearn.linear_model import LogisticRegression\n",
    "from sklearn.tree import DecisionTreeClassifier\n",
    "from sklearn.ensemble import RandomForestClassifier\n",
    "\n",
    "from sklearn.metrics import accuracy_score, classification_report\n"
   ]
  },
  {
   "cell_type": "code",
   "execution_count": 3,
   "metadata": {},
   "outputs": [
    {
     "data": {
      "text/html": [
       "<div>\n",
       "<style scoped>\n",
       "    .dataframe tbody tr th:only-of-type {\n",
       "        vertical-align: middle;\n",
       "    }\n",
       "\n",
       "    .dataframe tbody tr th {\n",
       "        vertical-align: top;\n",
       "    }\n",
       "\n",
       "    .dataframe thead th {\n",
       "        text-align: right;\n",
       "    }\n",
       "</style>\n",
       "<table border=\"1\" class=\"dataframe\">\n",
       "  <thead>\n",
       "    <tr style=\"text-align: right;\">\n",
       "      <th></th>\n",
       "      <th>time_left</th>\n",
       "      <th>ct_score</th>\n",
       "      <th>t_score</th>\n",
       "      <th>map</th>\n",
       "      <th>bomb_planted</th>\n",
       "      <th>ct_health</th>\n",
       "      <th>t_health</th>\n",
       "      <th>ct_armor</th>\n",
       "      <th>t_armor</th>\n",
       "      <th>ct_money</th>\n",
       "      <th>...</th>\n",
       "      <th>t_grenade_flashbang</th>\n",
       "      <th>ct_grenade_smokegrenade</th>\n",
       "      <th>t_grenade_smokegrenade</th>\n",
       "      <th>ct_grenade_incendiarygrenade</th>\n",
       "      <th>t_grenade_incendiarygrenade</th>\n",
       "      <th>ct_grenade_molotovgrenade</th>\n",
       "      <th>t_grenade_molotovgrenade</th>\n",
       "      <th>ct_grenade_decoygrenade</th>\n",
       "      <th>t_grenade_decoygrenade</th>\n",
       "      <th>round_winner</th>\n",
       "    </tr>\n",
       "  </thead>\n",
       "  <tbody>\n",
       "    <tr>\n",
       "      <th>0</th>\n",
       "      <td>175.00</td>\n",
       "      <td>0.0</td>\n",
       "      <td>0.0</td>\n",
       "      <td>de_dust2</td>\n",
       "      <td>False</td>\n",
       "      <td>500.0</td>\n",
       "      <td>500.0</td>\n",
       "      <td>0.0</td>\n",
       "      <td>0.0</td>\n",
       "      <td>4000.0</td>\n",
       "      <td>...</td>\n",
       "      <td>0.0</td>\n",
       "      <td>0.0</td>\n",
       "      <td>0.0</td>\n",
       "      <td>0.0</td>\n",
       "      <td>0.0</td>\n",
       "      <td>0.0</td>\n",
       "      <td>0.0</td>\n",
       "      <td>0.0</td>\n",
       "      <td>0.0</td>\n",
       "      <td>CT</td>\n",
       "    </tr>\n",
       "    <tr>\n",
       "      <th>1</th>\n",
       "      <td>156.03</td>\n",
       "      <td>0.0</td>\n",
       "      <td>0.0</td>\n",
       "      <td>de_dust2</td>\n",
       "      <td>False</td>\n",
       "      <td>500.0</td>\n",
       "      <td>500.0</td>\n",
       "      <td>400.0</td>\n",
       "      <td>300.0</td>\n",
       "      <td>600.0</td>\n",
       "      <td>...</td>\n",
       "      <td>0.0</td>\n",
       "      <td>0.0</td>\n",
       "      <td>2.0</td>\n",
       "      <td>0.0</td>\n",
       "      <td>0.0</td>\n",
       "      <td>0.0</td>\n",
       "      <td>0.0</td>\n",
       "      <td>0.0</td>\n",
       "      <td>0.0</td>\n",
       "      <td>CT</td>\n",
       "    </tr>\n",
       "    <tr>\n",
       "      <th>2</th>\n",
       "      <td>96.03</td>\n",
       "      <td>0.0</td>\n",
       "      <td>0.0</td>\n",
       "      <td>de_dust2</td>\n",
       "      <td>False</td>\n",
       "      <td>391.0</td>\n",
       "      <td>400.0</td>\n",
       "      <td>294.0</td>\n",
       "      <td>200.0</td>\n",
       "      <td>750.0</td>\n",
       "      <td>...</td>\n",
       "      <td>0.0</td>\n",
       "      <td>0.0</td>\n",
       "      <td>2.0</td>\n",
       "      <td>0.0</td>\n",
       "      <td>0.0</td>\n",
       "      <td>0.0</td>\n",
       "      <td>0.0</td>\n",
       "      <td>0.0</td>\n",
       "      <td>0.0</td>\n",
       "      <td>CT</td>\n",
       "    </tr>\n",
       "    <tr>\n",
       "      <th>3</th>\n",
       "      <td>76.03</td>\n",
       "      <td>0.0</td>\n",
       "      <td>0.0</td>\n",
       "      <td>de_dust2</td>\n",
       "      <td>False</td>\n",
       "      <td>391.0</td>\n",
       "      <td>400.0</td>\n",
       "      <td>294.0</td>\n",
       "      <td>200.0</td>\n",
       "      <td>750.0</td>\n",
       "      <td>...</td>\n",
       "      <td>0.0</td>\n",
       "      <td>0.0</td>\n",
       "      <td>0.0</td>\n",
       "      <td>0.0</td>\n",
       "      <td>0.0</td>\n",
       "      <td>0.0</td>\n",
       "      <td>0.0</td>\n",
       "      <td>0.0</td>\n",
       "      <td>0.0</td>\n",
       "      <td>CT</td>\n",
       "    </tr>\n",
       "    <tr>\n",
       "      <th>4</th>\n",
       "      <td>174.97</td>\n",
       "      <td>1.0</td>\n",
       "      <td>0.0</td>\n",
       "      <td>de_dust2</td>\n",
       "      <td>False</td>\n",
       "      <td>500.0</td>\n",
       "      <td>500.0</td>\n",
       "      <td>192.0</td>\n",
       "      <td>0.0</td>\n",
       "      <td>18350.0</td>\n",
       "      <td>...</td>\n",
       "      <td>0.0</td>\n",
       "      <td>0.0</td>\n",
       "      <td>0.0</td>\n",
       "      <td>0.0</td>\n",
       "      <td>0.0</td>\n",
       "      <td>0.0</td>\n",
       "      <td>0.0</td>\n",
       "      <td>0.0</td>\n",
       "      <td>0.0</td>\n",
       "      <td>CT</td>\n",
       "    </tr>\n",
       "  </tbody>\n",
       "</table>\n",
       "<p>5 rows × 97 columns</p>\n",
       "</div>"
      ],
      "text/plain": [
       "   time_left  ct_score  t_score       map  bomb_planted  ct_health  t_health  \\\n",
       "0     175.00       0.0      0.0  de_dust2         False      500.0     500.0   \n",
       "1     156.03       0.0      0.0  de_dust2         False      500.0     500.0   \n",
       "2      96.03       0.0      0.0  de_dust2         False      391.0     400.0   \n",
       "3      76.03       0.0      0.0  de_dust2         False      391.0     400.0   \n",
       "4     174.97       1.0      0.0  de_dust2         False      500.0     500.0   \n",
       "\n",
       "   ct_armor  t_armor  ct_money  ...  t_grenade_flashbang  \\\n",
       "0       0.0      0.0    4000.0  ...                  0.0   \n",
       "1     400.0    300.0     600.0  ...                  0.0   \n",
       "2     294.0    200.0     750.0  ...                  0.0   \n",
       "3     294.0    200.0     750.0  ...                  0.0   \n",
       "4     192.0      0.0   18350.0  ...                  0.0   \n",
       "\n",
       "   ct_grenade_smokegrenade  t_grenade_smokegrenade  \\\n",
       "0                      0.0                     0.0   \n",
       "1                      0.0                     2.0   \n",
       "2                      0.0                     2.0   \n",
       "3                      0.0                     0.0   \n",
       "4                      0.0                     0.0   \n",
       "\n",
       "   ct_grenade_incendiarygrenade  t_grenade_incendiarygrenade  \\\n",
       "0                           0.0                          0.0   \n",
       "1                           0.0                          0.0   \n",
       "2                           0.0                          0.0   \n",
       "3                           0.0                          0.0   \n",
       "4                           0.0                          0.0   \n",
       "\n",
       "   ct_grenade_molotovgrenade  t_grenade_molotovgrenade  \\\n",
       "0                        0.0                       0.0   \n",
       "1                        0.0                       0.0   \n",
       "2                        0.0                       0.0   \n",
       "3                        0.0                       0.0   \n",
       "4                        0.0                       0.0   \n",
       "\n",
       "   ct_grenade_decoygrenade  t_grenade_decoygrenade  round_winner  \n",
       "0                      0.0                     0.0            CT  \n",
       "1                      0.0                     0.0            CT  \n",
       "2                      0.0                     0.0            CT  \n",
       "3                      0.0                     0.0            CT  \n",
       "4                      0.0                     0.0            CT  \n",
       "\n",
       "[5 rows x 97 columns]"
      ]
     },
     "execution_count": 3,
     "metadata": {},
     "output_type": "execute_result"
    }
   ],
   "source": [
    "df = pd.read_csv(\"CSGODataset.csv\")\n",
    "df.head()"
   ]
  },
  {
   "cell_type": "code",
   "execution_count": 4,
   "metadata": {},
   "outputs": [
    {
     "data": {
      "text/plain": [
       "(122410, 97)"
      ]
     },
     "execution_count": 4,
     "metadata": {},
     "output_type": "execute_result"
    }
   ],
   "source": [
    "df.shape"
   ]
  },
  {
   "cell_type": "code",
   "execution_count": 5,
   "metadata": {},
   "outputs": [
    {
     "name": "stdout",
     "output_type": "stream",
     "text": [
      "<class 'pandas.core.frame.DataFrame'>\n",
      "RangeIndex: 122410 entries, 0 to 122409\n",
      "Data columns (total 97 columns):\n",
      " #   Column                        Non-Null Count   Dtype  \n",
      "---  ------                        --------------   -----  \n",
      " 0   time_left                     122410 non-null  float64\n",
      " 1   ct_score                      122410 non-null  float64\n",
      " 2   t_score                       122410 non-null  float64\n",
      " 3   map                           122410 non-null  object \n",
      " 4   bomb_planted                  122410 non-null  bool   \n",
      " 5   ct_health                     122410 non-null  float64\n",
      " 6   t_health                      122410 non-null  float64\n",
      " 7   ct_armor                      122410 non-null  float64\n",
      " 8   t_armor                       122410 non-null  float64\n",
      " 9   ct_money                      122410 non-null  float64\n",
      " 10  t_money                       122410 non-null  float64\n",
      " 11  ct_helmets                    122410 non-null  float64\n",
      " 12  t_helmets                     122410 non-null  float64\n",
      " 13  ct_defuse_kits                122410 non-null  float64\n",
      " 14  ct_players_alive              122410 non-null  float64\n",
      " 15  t_players_alive               122410 non-null  float64\n",
      " 16  ct_weapon_ak47                122410 non-null  float64\n",
      " 17  t_weapon_ak47                 122410 non-null  float64\n",
      " 18  ct_weapon_aug                 122410 non-null  float64\n",
      " 19  t_weapon_aug                  122410 non-null  float64\n",
      " 20  ct_weapon_awp                 122410 non-null  float64\n",
      " 21  t_weapon_awp                  122410 non-null  float64\n",
      " 22  ct_weapon_bizon               122410 non-null  float64\n",
      " 23  t_weapon_bizon                122410 non-null  float64\n",
      " 24  ct_weapon_cz75auto            122410 non-null  float64\n",
      " 25  t_weapon_cz75auto             122410 non-null  float64\n",
      " 26  ct_weapon_elite               122410 non-null  float64\n",
      " 27  t_weapon_elite                122410 non-null  float64\n",
      " 28  ct_weapon_famas               122410 non-null  float64\n",
      " 29  t_weapon_famas                122410 non-null  float64\n",
      " 30  ct_weapon_g3sg1               122410 non-null  float64\n",
      " 31  t_weapon_g3sg1                122410 non-null  float64\n",
      " 32  ct_weapon_galilar             122410 non-null  float64\n",
      " 33  t_weapon_galilar              122410 non-null  float64\n",
      " 34  ct_weapon_glock               122410 non-null  float64\n",
      " 35  t_weapon_glock                122410 non-null  float64\n",
      " 36  ct_weapon_m249                122410 non-null  float64\n",
      " 37  t_weapon_m249                 122410 non-null  float64\n",
      " 38  ct_weapon_m4a1s               122410 non-null  float64\n",
      " 39  t_weapon_m4a1s                122410 non-null  float64\n",
      " 40  ct_weapon_m4a4                122410 non-null  float64\n",
      " 41  t_weapon_m4a4                 122410 non-null  float64\n",
      " 42  ct_weapon_mac10               122410 non-null  float64\n",
      " 43  t_weapon_mac10                122410 non-null  float64\n",
      " 44  ct_weapon_mag7                122410 non-null  float64\n",
      " 45  t_weapon_mag7                 122410 non-null  float64\n",
      " 46  ct_weapon_mp5sd               122410 non-null  float64\n",
      " 47  t_weapon_mp5sd                122410 non-null  float64\n",
      " 48  ct_weapon_mp7                 122410 non-null  float64\n",
      " 49  t_weapon_mp7                  122410 non-null  float64\n",
      " 50  ct_weapon_mp9                 122410 non-null  float64\n",
      " 51  t_weapon_mp9                  122410 non-null  float64\n",
      " 52  ct_weapon_negev               122410 non-null  float64\n",
      " 53  t_weapon_negev                122410 non-null  float64\n",
      " 54  ct_weapon_nova                122410 non-null  float64\n",
      " 55  t_weapon_nova                 122410 non-null  float64\n",
      " 56  ct_weapon_p90                 122410 non-null  float64\n",
      " 57  t_weapon_p90                  122410 non-null  float64\n",
      " 58  ct_weapon_r8revolver          122410 non-null  float64\n",
      " 59  t_weapon_r8revolver           122410 non-null  float64\n",
      " 60  ct_weapon_sawedoff            122410 non-null  float64\n",
      " 61  t_weapon_sawedoff             122410 non-null  float64\n",
      " 62  ct_weapon_scar20              122410 non-null  float64\n",
      " 63  t_weapon_scar20               122410 non-null  float64\n",
      " 64  ct_weapon_sg553               122410 non-null  float64\n",
      " 65  t_weapon_sg553                122410 non-null  float64\n",
      " 66  ct_weapon_ssg08               122410 non-null  float64\n",
      " 67  t_weapon_ssg08                122410 non-null  float64\n",
      " 68  ct_weapon_ump45               122410 non-null  float64\n",
      " 69  t_weapon_ump45                122410 non-null  float64\n",
      " 70  ct_weapon_xm1014              122410 non-null  float64\n",
      " 71  t_weapon_xm1014               122410 non-null  float64\n",
      " 72  ct_weapon_deagle              122410 non-null  float64\n",
      " 73  t_weapon_deagle               122410 non-null  float64\n",
      " 74  ct_weapon_fiveseven           122410 non-null  float64\n",
      " 75  t_weapon_fiveseven            122410 non-null  float64\n",
      " 76  ct_weapon_usps                122410 non-null  float64\n",
      " 77  t_weapon_usps                 122410 non-null  float64\n",
      " 78  ct_weapon_p250                122410 non-null  float64\n",
      " 79  t_weapon_p250                 122410 non-null  float64\n",
      " 80  ct_weapon_p2000               122410 non-null  float64\n",
      " 81  t_weapon_p2000                122410 non-null  float64\n",
      " 82  ct_weapon_tec9                122410 non-null  float64\n",
      " 83  t_weapon_tec9                 122410 non-null  float64\n",
      " 84  ct_grenade_hegrenade          122410 non-null  float64\n",
      " 85  t_grenade_hegrenade           122410 non-null  float64\n",
      " 86  ct_grenade_flashbang          122410 non-null  float64\n",
      " 87  t_grenade_flashbang           122410 non-null  float64\n",
      " 88  ct_grenade_smokegrenade       122410 non-null  float64\n",
      " 89  t_grenade_smokegrenade        122410 non-null  float64\n",
      " 90  ct_grenade_incendiarygrenade  122410 non-null  float64\n",
      " 91  t_grenade_incendiarygrenade   122410 non-null  float64\n",
      " 92  ct_grenade_molotovgrenade     122410 non-null  float64\n",
      " 93  t_grenade_molotovgrenade      122410 non-null  float64\n",
      " 94  ct_grenade_decoygrenade       122410 non-null  float64\n",
      " 95  t_grenade_decoygrenade        122410 non-null  float64\n",
      " 96  round_winner                  122410 non-null  object \n",
      "dtypes: bool(1), float64(94), object(2)\n",
      "memory usage: 89.8+ MB\n"
     ]
    }
   ],
   "source": [
    "df.info()"
   ]
  },
  {
   "cell_type": "markdown",
   "metadata": {},
   "source": [
    "**My data is in very high dimensional space, moreover it's a classification problem**\n",
    "\n",
    "<hr>\n",
    "\n",
    "**What kind of problem do we have, when we are overloading the model with a lot features?**\n",
    "  * **Curse of Dimensionality**\n",
    "\n",
    "<hr>\n",
    "\n",
    "**Objective**\n",
    "\n",
    "* **We have to do classification of the winner of the game**\n",
    "* **We have a lot of features, so we need to reduce the number of features**\n",
    "* **So, in this case we can use the LDA inorder to reduce our data**\n",
    "\n",
    "<hr>"
   ]
  },
  {
   "cell_type": "code",
   "execution_count": 6,
   "metadata": {},
   "outputs": [
    {
     "data": {
      "text/plain": [
       "Index(['time_left', 'ct_score', 't_score', 'map', 'bomb_planted', 'ct_health',\n",
       "       't_health', 'ct_armor', 't_armor', 'ct_money', 't_money', 'ct_helmets',\n",
       "       't_helmets', 'ct_defuse_kits', 'ct_players_alive', 't_players_alive',\n",
       "       'ct_weapon_ak47', 't_weapon_ak47', 'ct_weapon_aug', 't_weapon_aug',\n",
       "       'ct_weapon_awp', 't_weapon_awp', 'ct_weapon_bizon', 't_weapon_bizon',\n",
       "       'ct_weapon_cz75auto', 't_weapon_cz75auto', 'ct_weapon_elite',\n",
       "       't_weapon_elite', 'ct_weapon_famas', 't_weapon_famas',\n",
       "       'ct_weapon_g3sg1', 't_weapon_g3sg1', 'ct_weapon_galilar',\n",
       "       't_weapon_galilar', 'ct_weapon_glock', 't_weapon_glock',\n",
       "       'ct_weapon_m249', 't_weapon_m249', 'ct_weapon_m4a1s', 't_weapon_m4a1s',\n",
       "       'ct_weapon_m4a4', 't_weapon_m4a4', 'ct_weapon_mac10', 't_weapon_mac10',\n",
       "       'ct_weapon_mag7', 't_weapon_mag7', 'ct_weapon_mp5sd', 't_weapon_mp5sd',\n",
       "       'ct_weapon_mp7', 't_weapon_mp7', 'ct_weapon_mp9', 't_weapon_mp9',\n",
       "       'ct_weapon_negev', 't_weapon_negev', 'ct_weapon_nova', 't_weapon_nova',\n",
       "       'ct_weapon_p90', 't_weapon_p90', 'ct_weapon_r8revolver',\n",
       "       't_weapon_r8revolver', 'ct_weapon_sawedoff', 't_weapon_sawedoff',\n",
       "       'ct_weapon_scar20', 't_weapon_scar20', 'ct_weapon_sg553',\n",
       "       't_weapon_sg553', 'ct_weapon_ssg08', 't_weapon_ssg08',\n",
       "       'ct_weapon_ump45', 't_weapon_ump45', 'ct_weapon_xm1014',\n",
       "       't_weapon_xm1014', 'ct_weapon_deagle', 't_weapon_deagle',\n",
       "       'ct_weapon_fiveseven', 't_weapon_fiveseven', 'ct_weapon_usps',\n",
       "       't_weapon_usps', 'ct_weapon_p250', 't_weapon_p250', 'ct_weapon_p2000',\n",
       "       't_weapon_p2000', 'ct_weapon_tec9', 't_weapon_tec9',\n",
       "       'ct_grenade_hegrenade', 't_grenade_hegrenade', 'ct_grenade_flashbang',\n",
       "       't_grenade_flashbang', 'ct_grenade_smokegrenade',\n",
       "       't_grenade_smokegrenade', 'ct_grenade_incendiarygrenade',\n",
       "       't_grenade_incendiarygrenade', 'ct_grenade_molotovgrenade',\n",
       "       't_grenade_molotovgrenade', 'ct_grenade_decoygrenade',\n",
       "       't_grenade_decoygrenade', 'round_winner'],\n",
       "      dtype='object')"
      ]
     },
     "execution_count": 6,
     "metadata": {},
     "output_type": "execute_result"
    }
   ],
   "source": [
    "df.columns"
   ]
  },
  {
   "cell_type": "code",
   "execution_count": 7,
   "metadata": {},
   "outputs": [
    {
     "data": {
      "text/plain": [
       "T     62406\n",
       "CT    60004\n",
       "Name: round_winner, dtype: int64"
      ]
     },
     "execution_count": 7,
     "metadata": {},
     "output_type": "execute_result"
    }
   ],
   "source": [
    "df['round_winner'].value_counts()"
   ]
  },
  {
   "cell_type": "markdown",
   "metadata": {},
   "source": [
    "**In total, we are having two classes. So, the number of LDA components will be 1. Moreover, the data is balanced**\n",
    "\n",
    "<hr>\n",
    "\n",
    "**If you are having multiple output classes, so in this scenario use this techique**\n",
    "  * **min(classes - 1, no_of_features)**"
   ]
  },
  {
   "cell_type": "code",
   "execution_count": 8,
   "metadata": {},
   "outputs": [],
   "source": [
    "# 8 columns, target = 12\n",
    "# min(8, 11)\n",
    "# Components for LDA = 8"
   ]
  },
  {
   "cell_type": "code",
   "execution_count": 9,
   "metadata": {},
   "outputs": [
    {
     "name": "stdout",
     "output_type": "stream",
     "text": [
      "Rows: 122410 and Columns: 97\n"
     ]
    }
   ],
   "source": [
    "a = df.shape\n",
    "print(f\"Rows: {a[0]} and Columns: {a[1]}\")"
   ]
  },
  {
   "cell_type": "markdown",
   "metadata": {},
   "source": [
    "**Data Pre-processing**"
   ]
  },
  {
   "cell_type": "code",
   "execution_count": 10,
   "metadata": {},
   "outputs": [
    {
     "data": {
      "text/plain": [
       "0"
      ]
     },
     "execution_count": 10,
     "metadata": {},
     "output_type": "execute_result"
    }
   ],
   "source": [
    "# check null values\n",
    "df.isnull().sum().sum()"
   ]
  },
  {
   "cell_type": "code",
   "execution_count": 11,
   "metadata": {},
   "outputs": [
    {
     "data": {
      "text/plain": [
       "4962"
      ]
     },
     "execution_count": 11,
     "metadata": {},
     "output_type": "execute_result"
    }
   ],
   "source": [
    "# check duplicates\n",
    "df.duplicated().sum()"
   ]
  },
  {
   "cell_type": "code",
   "execution_count": 12,
   "metadata": {},
   "outputs": [
    {
     "data": {
      "text/plain": [
       "0"
      ]
     },
     "execution_count": 12,
     "metadata": {},
     "output_type": "execute_result"
    }
   ],
   "source": [
    "# handle duplicates - by dropping them\n",
    "df = df.drop_duplicates()\n",
    "df.duplicated().sum()"
   ]
  },
  {
   "cell_type": "markdown",
   "metadata": {},
   "source": [
    "**EDA**\n",
    "\n",
    "**How many maps are presents in the given dataset in form of percentage?**"
   ]
  },
  {
   "cell_type": "code",
   "execution_count": 15,
   "metadata": {},
   "outputs": [
    {
     "data": {
      "text/plain": [
       "de_inferno     19.567809\n",
       "de_dust2       18.094816\n",
       "de_nuke        15.392344\n",
       "de_mirage      15.149683\n",
       "de_overpass    11.472311\n",
       "de_train       10.999762\n",
       "de_vertigo      9.199816\n",
       "de_cache        0.123459\n",
       "Name: map, dtype: float64"
      ]
     },
     "execution_count": 15,
     "metadata": {},
     "output_type": "execute_result"
    }
   ],
   "source": [
    "df['map'].value_counts(normalize = True)*100"
   ]
  },
  {
   "cell_type": "markdown",
   "metadata": {},
   "source": [
    "From here, the de_inferno is the most famous map in the given, and de_cache is the least favourite"
   ]
  },
  {
   "cell_type": "markdown",
   "metadata": {},
   "source": [
    "<hr>\n",
    "\n",
    "**Given that the map is de_inferno, what was the number of times either of team won?**"
   ]
  },
  {
   "cell_type": "code",
   "execution_count": 18,
   "metadata": {},
   "outputs": [
    {
     "data": {
      "text/plain": [
       "T     12511\n",
       "CT    10471\n",
       "Name: round_winner, dtype: int64"
      ]
     },
     "execution_count": 18,
     "metadata": {},
     "output_type": "execute_result"
    }
   ],
   "source": [
    "df[df['map'] == 'de_inferno']['round_winner'].value_counts()"
   ]
  },
  {
   "cell_type": "code",
   "execution_count": 19,
   "metadata": {},
   "outputs": [
    {
     "data": {
      "text/plain": [
       "T     11603\n",
       "CT     9649\n",
       "Name: round_winner, dtype: int64"
      ]
     },
     "execution_count": 19,
     "metadata": {},
     "output_type": "execute_result"
    }
   ],
   "source": [
    "df[df[\"map\"] == \"de_dust2\"][\"round_winner\"].value_counts()"
   ]
  },
  {
   "cell_type": "markdown",
   "metadata": {},
   "source": [
    "\\**Can we say that overall, the `T` team has won more number of rounds as compared with `CT`**"
   ]
  },
  {
   "cell_type": "markdown",
   "metadata": {},
   "source": [
    "<hr>\n",
    "\n",
    "**Encoding**"
   ]
  },
  {
   "cell_type": "code",
   "execution_count": 21,
   "metadata": {},
   "outputs": [],
   "source": [
    "le = LabelEncoder()"
   ]
  },
  {
   "cell_type": "code",
   "execution_count": 22,
   "metadata": {},
   "outputs": [
    {
     "data": {
      "text/plain": [
       "['map', 'bomb_planted', 'round_winner']"
      ]
     },
     "execution_count": 22,
     "metadata": {},
     "output_type": "execute_result"
    }
   ],
   "source": [
    "cat_col = []\n",
    "\n",
    "for col in df.columns:\n",
    "    if((df[col].dtype == 'object') | (df[col].dtype == 'bool')):\n",
    "        cat_col.append(col)\n",
    "        \n",
    "cat_col"
   ]
  },
  {
   "cell_type": "code",
   "execution_count": 23,
   "metadata": {},
   "outputs": [
    {
     "data": {
      "text/html": [
       "<div>\n",
       "<style scoped>\n",
       "    .dataframe tbody tr th:only-of-type {\n",
       "        vertical-align: middle;\n",
       "    }\n",
       "\n",
       "    .dataframe tbody tr th {\n",
       "        vertical-align: top;\n",
       "    }\n",
       "\n",
       "    .dataframe thead th {\n",
       "        text-align: right;\n",
       "    }\n",
       "</style>\n",
       "<table border=\"1\" class=\"dataframe\">\n",
       "  <thead>\n",
       "    <tr style=\"text-align: right;\">\n",
       "      <th></th>\n",
       "      <th>time_left</th>\n",
       "      <th>ct_score</th>\n",
       "      <th>t_score</th>\n",
       "      <th>map</th>\n",
       "      <th>bomb_planted</th>\n",
       "      <th>ct_health</th>\n",
       "      <th>t_health</th>\n",
       "      <th>ct_armor</th>\n",
       "      <th>t_armor</th>\n",
       "      <th>ct_money</th>\n",
       "      <th>...</th>\n",
       "      <th>t_grenade_flashbang</th>\n",
       "      <th>ct_grenade_smokegrenade</th>\n",
       "      <th>t_grenade_smokegrenade</th>\n",
       "      <th>ct_grenade_incendiarygrenade</th>\n",
       "      <th>t_grenade_incendiarygrenade</th>\n",
       "      <th>ct_grenade_molotovgrenade</th>\n",
       "      <th>t_grenade_molotovgrenade</th>\n",
       "      <th>ct_grenade_decoygrenade</th>\n",
       "      <th>t_grenade_decoygrenade</th>\n",
       "      <th>round_winner</th>\n",
       "    </tr>\n",
       "  </thead>\n",
       "  <tbody>\n",
       "    <tr>\n",
       "      <th>0</th>\n",
       "      <td>175.00</td>\n",
       "      <td>0.0</td>\n",
       "      <td>0.0</td>\n",
       "      <td>1</td>\n",
       "      <td>0</td>\n",
       "      <td>500.0</td>\n",
       "      <td>500.0</td>\n",
       "      <td>0.0</td>\n",
       "      <td>0.0</td>\n",
       "      <td>4000.0</td>\n",
       "      <td>...</td>\n",
       "      <td>0.0</td>\n",
       "      <td>0.0</td>\n",
       "      <td>0.0</td>\n",
       "      <td>0.0</td>\n",
       "      <td>0.0</td>\n",
       "      <td>0.0</td>\n",
       "      <td>0.0</td>\n",
       "      <td>0.0</td>\n",
       "      <td>0.0</td>\n",
       "      <td>0</td>\n",
       "    </tr>\n",
       "    <tr>\n",
       "      <th>1</th>\n",
       "      <td>156.03</td>\n",
       "      <td>0.0</td>\n",
       "      <td>0.0</td>\n",
       "      <td>1</td>\n",
       "      <td>0</td>\n",
       "      <td>500.0</td>\n",
       "      <td>500.0</td>\n",
       "      <td>400.0</td>\n",
       "      <td>300.0</td>\n",
       "      <td>600.0</td>\n",
       "      <td>...</td>\n",
       "      <td>0.0</td>\n",
       "      <td>0.0</td>\n",
       "      <td>2.0</td>\n",
       "      <td>0.0</td>\n",
       "      <td>0.0</td>\n",
       "      <td>0.0</td>\n",
       "      <td>0.0</td>\n",
       "      <td>0.0</td>\n",
       "      <td>0.0</td>\n",
       "      <td>0</td>\n",
       "    </tr>\n",
       "  </tbody>\n",
       "</table>\n",
       "<p>2 rows × 97 columns</p>\n",
       "</div>"
      ],
      "text/plain": [
       "   time_left  ct_score  t_score  map  bomb_planted  ct_health  t_health  \\\n",
       "0     175.00       0.0      0.0    1             0      500.0     500.0   \n",
       "1     156.03       0.0      0.0    1             0      500.0     500.0   \n",
       "\n",
       "   ct_armor  t_armor  ct_money  ...  t_grenade_flashbang  \\\n",
       "0       0.0      0.0    4000.0  ...                  0.0   \n",
       "1     400.0    300.0     600.0  ...                  0.0   \n",
       "\n",
       "   ct_grenade_smokegrenade  t_grenade_smokegrenade  \\\n",
       "0                      0.0                     0.0   \n",
       "1                      0.0                     2.0   \n",
       "\n",
       "   ct_grenade_incendiarygrenade  t_grenade_incendiarygrenade  \\\n",
       "0                           0.0                          0.0   \n",
       "1                           0.0                          0.0   \n",
       "\n",
       "   ct_grenade_molotovgrenade  t_grenade_molotovgrenade  \\\n",
       "0                        0.0                       0.0   \n",
       "1                        0.0                       0.0   \n",
       "\n",
       "   ct_grenade_decoygrenade  t_grenade_decoygrenade  round_winner  \n",
       "0                      0.0                     0.0             0  \n",
       "1                      0.0                     0.0             0  \n",
       "\n",
       "[2 rows x 97 columns]"
      ]
     },
     "execution_count": 23,
     "metadata": {},
     "output_type": "execute_result"
    }
   ],
   "source": [
    "for col in cat_col:\n",
    "    df[col] = le.fit_transform(df[col])\n",
    "    \n",
    "df.head(2)"
   ]
  },
  {
   "cell_type": "markdown",
   "metadata": {},
   "source": [
    "**Split the Data : Independent & Dependent Features**"
   ]
  },
  {
   "cell_type": "code",
   "execution_count": 24,
   "metadata": {},
   "outputs": [],
   "source": [
    "# Independent Features\n",
    "x = df.drop('round_winner', axis=1)\n",
    "\n",
    "# Dependent Feature\n",
    "y = df['round_winner']"
   ]
  },
  {
   "cell_type": "markdown",
   "metadata": {},
   "source": [
    "**Split the Data into Train & Test**"
   ]
  },
  {
   "cell_type": "code",
   "execution_count": 25,
   "metadata": {},
   "outputs": [],
   "source": [
    "xtrain,xtest,ytrain,ytest = train_test_split(x,y, test_size=0.25, random_state=34)"
   ]
  },
  {
   "cell_type": "markdown",
   "metadata": {},
   "source": [
    "**Standardization**"
   ]
  },
  {
   "cell_type": "code",
   "execution_count": 26,
   "metadata": {},
   "outputs": [],
   "source": [
    "sc = StandardScaler()"
   ]
  },
  {
   "cell_type": "code",
   "execution_count": 27,
   "metadata": {},
   "outputs": [],
   "source": [
    "xtrain_scaled = sc.fit_transform(xtrain)\n",
    "xtest_scaled = sc.transform(xtest)"
   ]
  },
  {
   "cell_type": "markdown",
   "metadata": {},
   "source": [
    "**Implementing LDA to Reduce Features**"
   ]
  },
  {
   "cell_type": "code",
   "execution_count": 29,
   "metadata": {},
   "outputs": [
    {
     "data": {
      "text/plain": [
       "LinearDiscriminantAnalysis()"
      ]
     },
     "execution_count": 29,
     "metadata": {},
     "output_type": "execute_result"
    }
   ],
   "source": [
    "lda = LDA()\n",
    "lda.fit(xtrain, ytrain)"
   ]
  },
  {
   "cell_type": "code",
   "execution_count": 30,
   "metadata": {},
   "outputs": [
    {
     "data": {
      "text/plain": [
       "array([[-0.8382772 ],\n",
       "       [-0.20456585],\n",
       "       [-1.19435147],\n",
       "       ...,\n",
       "       [ 2.25269187],\n",
       "       [ 0.5231942 ],\n",
       "       [ 1.49582956]])"
      ]
     },
     "execution_count": 30,
     "metadata": {},
     "output_type": "execute_result"
    }
   ],
   "source": [
    "lda.transform(xtest)"
   ]
  },
  {
   "cell_type": "code",
   "execution_count": 32,
   "metadata": {},
   "outputs": [
    {
     "data": {
      "text/html": [
       "<div>\n",
       "<style scoped>\n",
       "    .dataframe tbody tr th:only-of-type {\n",
       "        vertical-align: middle;\n",
       "    }\n",
       "\n",
       "    .dataframe tbody tr th {\n",
       "        vertical-align: top;\n",
       "    }\n",
       "\n",
       "    .dataframe thead th {\n",
       "        text-align: right;\n",
       "    }\n",
       "</style>\n",
       "<table border=\"1\" class=\"dataframe\">\n",
       "  <thead>\n",
       "    <tr style=\"text-align: right;\">\n",
       "      <th></th>\n",
       "      <th>0</th>\n",
       "      <th>1</th>\n",
       "      <th>2</th>\n",
       "      <th>3</th>\n",
       "      <th>4</th>\n",
       "      <th>5</th>\n",
       "      <th>6</th>\n",
       "      <th>7</th>\n",
       "      <th>8</th>\n",
       "      <th>9</th>\n",
       "      <th>...</th>\n",
       "      <th>86</th>\n",
       "      <th>87</th>\n",
       "      <th>88</th>\n",
       "      <th>89</th>\n",
       "      <th>90</th>\n",
       "      <th>91</th>\n",
       "      <th>92</th>\n",
       "      <th>93</th>\n",
       "      <th>94</th>\n",
       "      <th>95</th>\n",
       "    </tr>\n",
       "  </thead>\n",
       "  <tbody>\n",
       "    <tr>\n",
       "      <th>0</th>\n",
       "      <td>0.002487</td>\n",
       "      <td>-0.004158</td>\n",
       "      <td>0.004099</td>\n",
       "      <td>-0.041713</td>\n",
       "      <td>0.760856</td>\n",
       "      <td>-0.003247</td>\n",
       "      <td>0.002292</td>\n",
       "      <td>-0.003525</td>\n",
       "      <td>0.003682</td>\n",
       "      <td>-0.000018</td>\n",
       "      <td>...</td>\n",
       "      <td>0.015021</td>\n",
       "      <td>-0.106491</td>\n",
       "      <td>0.047917</td>\n",
       "      <td>-0.123385</td>\n",
       "      <td>0.066642</td>\n",
       "      <td>-0.086623</td>\n",
       "      <td>0.043077</td>\n",
       "      <td>-0.065746</td>\n",
       "      <td>0.002976</td>\n",
       "      <td>0.10817</td>\n",
       "    </tr>\n",
       "  </tbody>\n",
       "</table>\n",
       "<p>1 rows × 96 columns</p>\n",
       "</div>"
      ],
      "text/plain": [
       "         0         1         2         3         4         5         6   \\\n",
       "0  0.002487 -0.004158  0.004099 -0.041713  0.760856 -0.003247  0.002292   \n",
       "\n",
       "         7         8         9   ...        86        87        88        89  \\\n",
       "0 -0.003525  0.003682 -0.000018  ...  0.015021 -0.106491  0.047917 -0.123385   \n",
       "\n",
       "         90        91        92        93        94       95  \n",
       "0  0.066642 -0.086623  0.043077 -0.065746  0.002976  0.10817  \n",
       "\n",
       "[1 rows x 96 columns]"
      ]
     },
     "execution_count": 32,
     "metadata": {},
     "output_type": "execute_result"
    }
   ],
   "source": [
    "# Calculate the Importance associated with the data\n",
    "pd.DataFrame(lda.coef_)"
   ]
  },
  {
   "cell_type": "markdown",
   "metadata": {},
   "source": [
    "**`This coefficients that we have got, this tells you that how much is the contribution of these features in constructing your separation line`**"
   ]
  },
  {
   "cell_type": "markdown",
   "metadata": {},
   "source": [
    "**LDA focuses on maximizing the separation between two or more given classes, while minimizing their spread**"
   ]
  },
  {
   "cell_type": "code",
   "execution_count": 34,
   "metadata": {},
   "outputs": [
    {
     "data": {
      "text/plain": [
       "array([ 1.00249013,  1.00416682,  1.00410741,  1.04259547,  2.14010802,\n",
       "        1.00325216,  1.00229456,  1.00353098,  1.00368916,  1.00001837,\n",
       "        1.00001342,  1.02400932,  1.03476114,  1.02515224,  1.20534745,\n",
       "        1.35440363,  1.38637573,  1.57874508,  1.58156416,  1.50568053,\n",
       "        1.58965979,  1.66684633,  1.        ,  1.21108922,  1.03373373,\n",
       "        1.00912376,  1.14620083,  1.36781195,  1.44439396,  2.06368984,\n",
       "        1.        ,  1.84884239,  1.63054104,  1.39103328,  1.27514113,\n",
       "        1.10397744, 33.88961167,  1.        ,  1.41300587,  2.34507357,\n",
       "        1.47156067,  1.5554446 ,  1.12867992,  1.30260623,  1.40642291,\n",
       "        1.90854241,  1.34416201,  1.99643364,  1.2179165 ,  1.30837849,\n",
       "        1.27253517,  1.62782618,  1.        ,  1.        ,  1.63416779,\n",
       "       23.83426206,  7.16306656,  3.04233561,  1.        ,  1.58881059,\n",
       "        1.        ,  3.36523069,  1.36880108,  1.        ,  1.45234115,\n",
       "        1.64612401,  1.35307522,  1.12610034,  1.21661424,  1.56960426,\n",
       "        1.23397303,  1.011149  ,  1.04323106,  1.011028  ,  1.13261279,\n",
       "        1.42629509,  1.09408753,  1.08684542,  1.11605825,  1.03429517,\n",
       "        1.15858777,  1.12579695,  1.06834611,  1.02630309,  1.00987368,\n",
       "        1.00136474,  1.01513479,  1.11236769,  1.04908383,  1.13131958,\n",
       "        1.06891255,  1.09048536,  1.04401879,  1.06795552,  1.00297998,\n",
       "        1.11423704])"
      ]
     },
     "execution_count": 34,
     "metadata": {},
     "output_type": "execute_result"
    }
   ],
   "source": [
    "# Trying to increase the quantitative value of these coefficients\n",
    "lda_coef = np.exp(np.abs(lda.coef_ )).flatten()           # using flatten to reduce dimension of array from 2D to 1D\n",
    "lda_coef"
   ]
  },
  {
   "cell_type": "code",
   "execution_count": 35,
   "metadata": {},
   "outputs": [
    {
     "data": {
      "text/plain": [
       "96"
      ]
     },
     "execution_count": 35,
     "metadata": {},
     "output_type": "execute_result"
    }
   ],
   "source": [
    "# Analyzing Best and Important Features in our data\n",
    "no_of_features = x.shape[1]\n",
    "no_of_features"
   ]
  },
  {
   "cell_type": "code",
   "execution_count": 36,
   "metadata": {},
   "outputs": [
    {
     "data": {
      "text/plain": [
       "array([ 0,  1,  2,  3,  4,  5,  6,  7,  8,  9, 10, 11, 12, 13, 14, 15, 16,\n",
       "       17, 18, 19, 20, 21, 22, 23, 24, 25, 26, 27, 28, 29, 30, 31, 32, 33,\n",
       "       34, 35, 36, 37, 38, 39, 40, 41, 42, 43, 44, 45, 46, 47, 48, 49, 50,\n",
       "       51, 52, 53, 54, 55, 56, 57, 58, 59, 60, 61, 62, 63, 64, 65, 66, 67,\n",
       "       68, 69, 70, 71, 72, 73, 74, 75, 76, 77, 78, 79, 80, 81, 82, 83, 84,\n",
       "       85, 86, 87, 88, 89, 90, 91, 92, 93, 94, 95])"
      ]
     },
     "execution_count": 36,
     "metadata": {},
     "output_type": "execute_result"
    }
   ],
   "source": [
    "# Arrange these features into a list of no.s\n",
    "features_list = np.arange(no_of_features)\n",
    "features_list"
   ]
  },
  {
   "cell_type": "code",
   "execution_count": 37,
   "metadata": {},
   "outputs": [
    {
     "data": {
      "text/plain": [
       "['time_left',\n",
       " 'ct_score',\n",
       " 't_score',\n",
       " 'map',\n",
       " 'bomb_planted',\n",
       " 'ct_health',\n",
       " 't_health',\n",
       " 'ct_armor',\n",
       " 't_armor',\n",
       " 'ct_money',\n",
       " 't_money',\n",
       " 'ct_helmets',\n",
       " 't_helmets',\n",
       " 'ct_defuse_kits',\n",
       " 'ct_players_alive',\n",
       " 't_players_alive',\n",
       " 'ct_weapon_ak47',\n",
       " 't_weapon_ak47',\n",
       " 'ct_weapon_aug',\n",
       " 't_weapon_aug',\n",
       " 'ct_weapon_awp',\n",
       " 't_weapon_awp',\n",
       " 'ct_weapon_bizon',\n",
       " 't_weapon_bizon',\n",
       " 'ct_weapon_cz75auto',\n",
       " 't_weapon_cz75auto',\n",
       " 'ct_weapon_elite',\n",
       " 't_weapon_elite',\n",
       " 'ct_weapon_famas',\n",
       " 't_weapon_famas',\n",
       " 'ct_weapon_g3sg1',\n",
       " 't_weapon_g3sg1',\n",
       " 'ct_weapon_galilar',\n",
       " 't_weapon_galilar',\n",
       " 'ct_weapon_glock',\n",
       " 't_weapon_glock',\n",
       " 'ct_weapon_m249',\n",
       " 't_weapon_m249',\n",
       " 'ct_weapon_m4a1s',\n",
       " 't_weapon_m4a1s',\n",
       " 'ct_weapon_m4a4',\n",
       " 't_weapon_m4a4',\n",
       " 'ct_weapon_mac10',\n",
       " 't_weapon_mac10',\n",
       " 'ct_weapon_mag7',\n",
       " 't_weapon_mag7',\n",
       " 'ct_weapon_mp5sd',\n",
       " 't_weapon_mp5sd',\n",
       " 'ct_weapon_mp7',\n",
       " 't_weapon_mp7',\n",
       " 'ct_weapon_mp9',\n",
       " 't_weapon_mp9',\n",
       " 'ct_weapon_negev',\n",
       " 't_weapon_negev',\n",
       " 'ct_weapon_nova',\n",
       " 't_weapon_nova',\n",
       " 'ct_weapon_p90',\n",
       " 't_weapon_p90',\n",
       " 'ct_weapon_r8revolver',\n",
       " 't_weapon_r8revolver',\n",
       " 'ct_weapon_sawedoff',\n",
       " 't_weapon_sawedoff',\n",
       " 'ct_weapon_scar20',\n",
       " 't_weapon_scar20',\n",
       " 'ct_weapon_sg553',\n",
       " 't_weapon_sg553',\n",
       " 'ct_weapon_ssg08',\n",
       " 't_weapon_ssg08',\n",
       " 'ct_weapon_ump45',\n",
       " 't_weapon_ump45',\n",
       " 'ct_weapon_xm1014',\n",
       " 't_weapon_xm1014',\n",
       " 'ct_weapon_deagle',\n",
       " 't_weapon_deagle',\n",
       " 'ct_weapon_fiveseven',\n",
       " 't_weapon_fiveseven',\n",
       " 'ct_weapon_usps',\n",
       " 't_weapon_usps',\n",
       " 'ct_weapon_p250',\n",
       " 't_weapon_p250',\n",
       " 'ct_weapon_p2000',\n",
       " 't_weapon_p2000',\n",
       " 'ct_weapon_tec9',\n",
       " 't_weapon_tec9',\n",
       " 'ct_grenade_hegrenade',\n",
       " 't_grenade_hegrenade',\n",
       " 'ct_grenade_flashbang',\n",
       " 't_grenade_flashbang',\n",
       " 'ct_grenade_smokegrenade',\n",
       " 't_grenade_smokegrenade',\n",
       " 'ct_grenade_incendiarygrenade',\n",
       " 't_grenade_incendiarygrenade',\n",
       " 'ct_grenade_molotovgrenade',\n",
       " 't_grenade_molotovgrenade',\n",
       " 'ct_grenade_decoygrenade',\n",
       " 't_grenade_decoygrenade']"
      ]
     },
     "execution_count": 37,
     "metadata": {},
     "output_type": "execute_result"
    }
   ],
   "source": [
    "feature_names = list(x.columns)\n",
    "feature_names"
   ]
  },
  {
   "cell_type": "code",
   "execution_count": 44,
   "metadata": {},
   "outputs": [
    {
     "data": {
      "image/png": "[encoded data removed]",
      "text/plain": [
       "<Figure size 1440x1008 with 1 Axes>"
      ]
     },
     "metadata": {
      "needs_background": "light"
     },
     "output_type": "display_data"
    }
   ],
   "source": [
    "# Visualize the Importance of these features\n",
    "plt.figure(figsize = (20,14))\n",
    "plt.bar(features_list, lda_coef)\n",
    "plt.xticks(features_list, feature_names, rotation='vertical')\n",
    "plt.xlabel('Features')\n",
    "plt.ylabel('Importance Score')\n",
    "plt.show()"
   ]
  },
  {
   "cell_type": "code",
   "execution_count": 48,
   "metadata": {},
   "outputs": [
    {
     "data": {
      "text/html": [
       "<div>\n",
       "<style scoped>\n",
       "    .dataframe tbody tr th:only-of-type {\n",
       "        vertical-align: middle;\n",
       "    }\n",
       "\n",
       "    .dataframe tbody tr th {\n",
       "        vertical-align: top;\n",
       "    }\n",
       "\n",
       "    .dataframe thead th {\n",
       "        text-align: right;\n",
       "    }\n",
       "</style>\n",
       "<table border=\"1\" class=\"dataframe\">\n",
       "  <thead>\n",
       "    <tr style=\"text-align: right;\">\n",
       "      <th></th>\n",
       "      <th>feature</th>\n",
       "      <th>Importance_score</th>\n",
       "    </tr>\n",
       "  </thead>\n",
       "  <tbody>\n",
       "    <tr>\n",
       "      <th>0</th>\n",
       "      <td>time_left</td>\n",
       "      <td>1.002490</td>\n",
       "    </tr>\n",
       "    <tr>\n",
       "      <th>1</th>\n",
       "      <td>ct_score</td>\n",
       "      <td>1.004167</td>\n",
       "    </tr>\n",
       "    <tr>\n",
       "      <th>2</th>\n",
       "      <td>t_score</td>\n",
       "      <td>1.004107</td>\n",
       "    </tr>\n",
       "    <tr>\n",
       "      <th>3</th>\n",
       "      <td>map</td>\n",
       "      <td>1.042595</td>\n",
       "    </tr>\n",
       "    <tr>\n",
       "      <th>4</th>\n",
       "      <td>bomb_planted</td>\n",
       "      <td>2.140108</td>\n",
       "    </tr>\n",
       "  </tbody>\n",
       "</table>\n",
       "</div>"
      ],
      "text/plain": [
       "        feature  Importance_score\n",
       "0     time_left          1.002490\n",
       "1      ct_score          1.004167\n",
       "2       t_score          1.004107\n",
       "3           map          1.042595\n",
       "4  bomb_planted          2.140108"
      ]
     },
     "execution_count": 48,
     "metadata": {},
     "output_type": "execute_result"
    }
   ],
   "source": [
    "df_feature_score = pd.DataFrame({'feature' : feature_names, 'Importance_score' : lda_coef})\n",
    "df_feature_score.head()"
   ]
  },
  {
   "cell_type": "code",
   "execution_count": 49,
   "metadata": {},
   "outputs": [
    {
     "data": {
      "text/html": [
       "<div>\n",
       "<style scoped>\n",
       "    .dataframe tbody tr th:only-of-type {\n",
       "        vertical-align: middle;\n",
       "    }\n",
       "\n",
       "    .dataframe tbody tr th {\n",
       "        vertical-align: top;\n",
       "    }\n",
       "\n",
       "    .dataframe thead th {\n",
       "        text-align: right;\n",
       "    }\n",
       "</style>\n",
       "<table border=\"1\" class=\"dataframe\">\n",
       "  <thead>\n",
       "    <tr style=\"text-align: right;\">\n",
       "      <th></th>\n",
       "      <th>feature</th>\n",
       "      <th>Importance_score</th>\n",
       "    </tr>\n",
       "  </thead>\n",
       "  <tbody>\n",
       "    <tr>\n",
       "      <th>36</th>\n",
       "      <td>ct_weapon_m249</td>\n",
       "      <td>33.889612</td>\n",
       "    </tr>\n",
       "    <tr>\n",
       "      <th>55</th>\n",
       "      <td>t_weapon_nova</td>\n",
       "      <td>23.834262</td>\n",
       "    </tr>\n",
       "    <tr>\n",
       "      <th>56</th>\n",
       "      <td>ct_weapon_p90</td>\n",
       "      <td>7.163067</td>\n",
       "    </tr>\n",
       "    <tr>\n",
       "      <th>61</th>\n",
       "      <td>t_weapon_sawedoff</td>\n",
       "      <td>3.365231</td>\n",
       "    </tr>\n",
       "    <tr>\n",
       "      <th>57</th>\n",
       "      <td>t_weapon_p90</td>\n",
       "      <td>3.042336</td>\n",
       "    </tr>\n",
       "    <tr>\n",
       "      <th>39</th>\n",
       "      <td>t_weapon_m4a1s</td>\n",
       "      <td>2.345074</td>\n",
       "    </tr>\n",
       "    <tr>\n",
       "      <th>4</th>\n",
       "      <td>bomb_planted</td>\n",
       "      <td>2.140108</td>\n",
       "    </tr>\n",
       "    <tr>\n",
       "      <th>29</th>\n",
       "      <td>t_weapon_famas</td>\n",
       "      <td>2.063690</td>\n",
       "    </tr>\n",
       "    <tr>\n",
       "      <th>47</th>\n",
       "      <td>t_weapon_mp5sd</td>\n",
       "      <td>1.996434</td>\n",
       "    </tr>\n",
       "    <tr>\n",
       "      <th>45</th>\n",
       "      <td>t_weapon_mag7</td>\n",
       "      <td>1.908542</td>\n",
       "    </tr>\n",
       "  </tbody>\n",
       "</table>\n",
       "</div>"
      ],
      "text/plain": [
       "              feature  Importance_score\n",
       "36     ct_weapon_m249         33.889612\n",
       "55      t_weapon_nova         23.834262\n",
       "56      ct_weapon_p90          7.163067\n",
       "61  t_weapon_sawedoff          3.365231\n",
       "57       t_weapon_p90          3.042336\n",
       "39     t_weapon_m4a1s          2.345074\n",
       "4        bomb_planted          2.140108\n",
       "29     t_weapon_famas          2.063690\n",
       "47     t_weapon_mp5sd          1.996434\n",
       "45      t_weapon_mag7          1.908542"
      ]
     },
     "execution_count": 49,
     "metadata": {},
     "output_type": "execute_result"
    }
   ],
   "source": [
    "# Selecting top 10 features\n",
    "top_10_features = df_feature_score.nlargest(10, 'Importance_score')         # nlargest(no_of_features, 'top_basedon_feature')\n",
    "top_10_features"
   ]
  },
  {
   "cell_type": "markdown",
   "metadata": {},
   "source": [
    "**These are the top 10 features that will have the maximum contribution in building the separation line, moreover, this will allows us to correctly classify the data based on the separation line**"
   ]
  },
  {
   "cell_type": "markdown",
   "metadata": {},
   "source": [
    "<hr>\n",
    "\n",
    "<img src = \"https://imgs.search.brave.com/U7euU0VnN0H6Lv8i5ga5UR2lhZr6o2VoYWxIoJRFo8s/rs:fit:500:0:0/g:ce/aHR0cHM6Ly91cGxv/YWQud2lraW1lZGlh/Lm9yZy93aWtpcGVk/aWEvY29tbW9ucy90/aHVtYi83LzdlL0lu/dGVyc2VjdGluZ19w/bGFuZXMuc3ZnLzY0/MHB4LUludGVyc2Vj/dGluZ19wbGFuZXMu/c3ZnLnBuZw\"/>"
   ]
  },
  {
   "cell_type": "markdown",
   "metadata": {},
   "source": [
    "<hr>\n",
    "\n",
    "<img src = \"data:image/jpeg;base64,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\"/>\n"
   ]
  },
  {
   "cell_type": "markdown",
   "metadata": {},
   "source": [
    "<hr>\n",
    "\n",
    "**Selecting the best columns for the seperation**"
   ]
  },
  {
   "cell_type": "markdown",
   "metadata": {},
   "source": [
    "**Model for Non-LDA Data**"
   ]
  },
  {
   "cell_type": "code",
   "execution_count": 51,
   "metadata": {},
   "outputs": [],
   "source": [
    "lr = LogisticRegression()\n",
    "dt = DecisionTreeClassifier()\n",
    "rf = RandomForestClassifier()"
   ]
  },
  {
   "cell_type": "code",
   "execution_count": 82,
   "metadata": {},
   "outputs": [
    {
     "name": "stdout",
     "output_type": "stream",
     "text": [
      "              precision    recall  f1-score   support\n",
      "\n",
      "           0       0.76      0.75      0.75     14700\n",
      "           1       0.75      0.76      0.76     14662\n",
      "\n",
      "    accuracy                           0.75     29362\n",
      "   macro avg       0.75      0.75      0.75     29362\n",
      "weighted avg       0.75      0.75      0.75     29362\n",
      "\n",
      "Accuracy score:  0.7546488658810707\n"
     ]
    }
   ],
   "source": [
    "# Logistic Regression\n",
    "lr.fit(xtrain_scaled,ytrain)\n",
    "ypred = lr.predict(xtest_scaled)\n",
    "print(classification_report(ypred, ytest))\n",
    "print(\"Accuracy score: \", accuracy_score(ypred, ytest))"
   ]
  },
  {
   "cell_type": "code",
   "execution_count": 83,
   "metadata": {},
   "outputs": [
    {
     "name": "stdout",
     "output_type": "stream",
     "text": [
      "              precision    recall  f1-score   support\n",
      "\n",
      "           0       0.80      0.81      0.80     14343\n",
      "           1       0.81      0.81      0.81     15019\n",
      "\n",
      "    accuracy                           0.81     29362\n",
      "   macro avg       0.81      0.81      0.81     29362\n",
      "weighted avg       0.81      0.81      0.81     29362\n",
      "\n"
     ]
    }
   ],
   "source": [
    "# Decision Tree\n",
    "dt.fit(xtrain_scaled,ytrain)\n",
    "ypred = dt.predict(xtest_scaled)\n",
    "print(classification_report(ypred,ytest))"
   ]
  },
  {
   "cell_type": "code",
   "execution_count": 84,
   "metadata": {},
   "outputs": [
    {
     "name": "stdout",
     "output_type": "stream",
     "text": [
      "              precision    recall  f1-score   support\n",
      "\n",
      "           0       0.88      0.85      0.86     14825\n",
      "           1       0.85      0.88      0.87     14537\n",
      "\n",
      "    accuracy                           0.87     29362\n",
      "   macro avg       0.87      0.87      0.87     29362\n",
      "weighted avg       0.87      0.87      0.87     29362\n",
      "\n"
     ]
    }
   ],
   "source": [
    "# Random Forest\n",
    "rf.fit(xtrain_scaled,ytrain)\n",
    "ypred = rf.predict(xtest_scaled)\n",
    "print(classification_report(ypred,ytest))"
   ]
  },
  {
   "cell_type": "markdown",
   "metadata": {},
   "source": [
    "**Model for LDA-Based Data**"
   ]
  },
  {
   "cell_type": "code",
   "execution_count": 76,
   "metadata": {},
   "outputs": [
    {
     "data": {
      "text/plain": [
       "0         0\n",
       "1         0\n",
       "2         0\n",
       "3         0\n",
       "4         0\n",
       "         ..\n",
       "122405    1\n",
       "122406    1\n",
       "122407    1\n",
       "122408    1\n",
       "122409    1\n",
       "Name: round_winner, Length: 117448, dtype: int32"
      ]
     },
     "execution_count": 76,
     "metadata": {},
     "output_type": "execute_result"
    }
   ],
   "source": [
    "# LDA based features\n",
    "x_selected = df[top_10_features['feature']]\n",
    "\n",
    "# Target feature\n",
    "y"
   ]
  },
  {
   "cell_type": "code",
   "execution_count": 77,
   "metadata": {},
   "outputs": [],
   "source": [
    "# Standardize data\n",
    "x_selected_scaled = sc.fit_transform(x_selected)"
   ]
  },
  {
   "cell_type": "code",
   "execution_count": 78,
   "metadata": {},
   "outputs": [],
   "source": [
    "# train-test split\n",
    "xtrain_lda,xtest_lda,ytrain_lda,ytest_lda = train_test_split(x_selected_scaled,y,test_size=0.25, random_state=21)"
   ]
  },
  {
   "cell_type": "code",
   "execution_count": 79,
   "metadata": {},
   "outputs": [
    {
     "name": "stdout",
     "output_type": "stream",
     "text": [
      "              precision    recall  f1-score   support\n",
      "\n",
      "           0       0.95      0.53      0.68     25725\n",
      "           1       0.19      0.78      0.31      3637\n",
      "\n",
      "    accuracy                           0.56     29362\n",
      "   macro avg       0.57      0.66      0.49     29362\n",
      "weighted avg       0.85      0.56      0.63     29362\n",
      "\n"
     ]
    }
   ],
   "source": [
    "# Logistic Regression\n",
    "lr.fit(xtrain_lda,ytrain_lda)\n",
    "ypred_lda = lr.predict(xtest_lda)\n",
    "print(classification_report(ypred_lda,ytest_lda))"
   ]
  },
  {
   "cell_type": "code",
   "execution_count": 80,
   "metadata": {},
   "outputs": [
    {
     "name": "stdout",
     "output_type": "stream",
     "text": [
      "              precision    recall  f1-score   support\n",
      "\n",
      "           0       0.95      0.53      0.68     25728\n",
      "           1       0.19      0.79      0.31      3634\n",
      "\n",
      "    accuracy                           0.56     29362\n",
      "   macro avg       0.57      0.66      0.49     29362\n",
      "weighted avg       0.85      0.56      0.63     29362\n",
      "\n"
     ]
    }
   ],
   "source": [
    "# Decision Tree\n",
    "dt.fit(xtrain_lda,ytrain_lda)\n",
    "ypred_lda = dt.predict(xtest_lda)\n",
    "print(classification_report(ypred_lda,ytest_lda))"
   ]
  },
  {
   "cell_type": "code",
   "execution_count": 81,
   "metadata": {},
   "outputs": [
    {
     "name": "stdout",
     "output_type": "stream",
     "text": [
      "              precision    recall  f1-score   support\n",
      "\n",
      "           0       0.95      0.53      0.68     25727\n",
      "           1       0.19      0.79      0.31      3635\n",
      "\n",
      "    accuracy                           0.56     29362\n",
      "   macro avg       0.57      0.66      0.49     29362\n",
      "weighted avg       0.85      0.56      0.63     29362\n",
      "\n"
     ]
    }
   ],
   "source": [
    "# Random Forest\n",
    "rf.fit(xtrain_lda,ytrain_lda)\n",
    "ypred_lda = rf.predict(xtest_lda)\n",
    "print(classification_report(ypred_lda,ytest_lda))"
   ]
  },
  {
   "cell_type": "code",
   "execution_count": null,
   "metadata": {},
   "outputs": [],
   "source": []
  }
 ],
 "metadata": {
  "kernelspec": {
   "display_name": "base",
   "language": "python",
   "name": "python3"
  },
  "language_info": {
   "codemirror_mode": {
    "name": "ipython",
    "version": 3
   },
   "file_extension": ".py",
   "mimetype": "text/x-python",
   "name": "python",
   "nbconvert_exporter": "python",
   "pygments_lexer": "ipython3",
   "version": "3.7.6"
  }
 },
 "nbformat": 4,
 "nbformat_minor": 2
}

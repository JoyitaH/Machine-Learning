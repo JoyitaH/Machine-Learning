{
 "cells": [
  {
   "cell_type": "code",
   "execution_count": 1,
   "metadata": {},
   "outputs": [],
   "source": [
    "import pandas as pd\n",
    "import numpy as np\n",
    "import seaborn as sns\n",
    "import matplotlib.pyplot as plt\n",
    "\n",
    "import warnings \n",
    "warnings.filterwarnings(\"ignore\")"
   ]
  },
  {
   "cell_type": "code",
   "execution_count": 2,
   "metadata": {},
   "outputs": [
    {
     "data": {
      "text/html": [
       "<div>\n",
       "<style scoped>\n",
       "    .dataframe tbody tr th:only-of-type {\n",
       "        vertical-align: middle;\n",
       "    }\n",
       "\n",
       "    .dataframe tbody tr th {\n",
       "        vertical-align: top;\n",
       "    }\n",
       "\n",
       "    .dataframe thead th {\n",
       "        text-align: right;\n",
       "    }\n",
       "</style>\n",
       "<table border=\"1\" class=\"dataframe\">\n",
       "  <thead>\n",
       "    <tr style=\"text-align: right;\">\n",
       "      <th></th>\n",
       "      <th>age</th>\n",
       "      <th>sex</th>\n",
       "      <th>bmi</th>\n",
       "      <th>children</th>\n",
       "      <th>smoker</th>\n",
       "      <th>Claim_Amount</th>\n",
       "      <th>past_consultations</th>\n",
       "      <th>num_of_steps</th>\n",
       "      <th>Hospital_expenditure</th>\n",
       "      <th>NUmber_of_past_hospitalizations</th>\n",
       "      <th>Anual_Salary</th>\n",
       "      <th>region</th>\n",
       "      <th>charges</th>\n",
       "    </tr>\n",
       "  </thead>\n",
       "  <tbody>\n",
       "    <tr>\n",
       "      <th>0</th>\n",
       "      <td>18.0</td>\n",
       "      <td>male</td>\n",
       "      <td>23.21</td>\n",
       "      <td>0.0</td>\n",
       "      <td>no</td>\n",
       "      <td>29087.54313</td>\n",
       "      <td>17.0</td>\n",
       "      <td>715428.0</td>\n",
       "      <td>4720920.992</td>\n",
       "      <td>0.0</td>\n",
       "      <td>55784970.05</td>\n",
       "      <td>southeast</td>\n",
       "      <td>1121.8739</td>\n",
       "    </tr>\n",
       "    <tr>\n",
       "      <th>1</th>\n",
       "      <td>18.0</td>\n",
       "      <td>male</td>\n",
       "      <td>30.14</td>\n",
       "      <td>0.0</td>\n",
       "      <td>no</td>\n",
       "      <td>39053.67437</td>\n",
       "      <td>7.0</td>\n",
       "      <td>699157.0</td>\n",
       "      <td>4329831.676</td>\n",
       "      <td>0.0</td>\n",
       "      <td>13700885.19</td>\n",
       "      <td>southeast</td>\n",
       "      <td>1131.5066</td>\n",
       "    </tr>\n",
       "    <tr>\n",
       "      <th>2</th>\n",
       "      <td>18.0</td>\n",
       "      <td>male</td>\n",
       "      <td>33.33</td>\n",
       "      <td>0.0</td>\n",
       "      <td>no</td>\n",
       "      <td>39023.62759</td>\n",
       "      <td>19.0</td>\n",
       "      <td>702341.0</td>\n",
       "      <td>6884860.774</td>\n",
       "      <td>0.0</td>\n",
       "      <td>73523107.27</td>\n",
       "      <td>southeast</td>\n",
       "      <td>1135.9407</td>\n",
       "    </tr>\n",
       "    <tr>\n",
       "      <th>3</th>\n",
       "      <td>18.0</td>\n",
       "      <td>male</td>\n",
       "      <td>33.66</td>\n",
       "      <td>0.0</td>\n",
       "      <td>no</td>\n",
       "      <td>28185.39332</td>\n",
       "      <td>11.0</td>\n",
       "      <td>700250.0</td>\n",
       "      <td>4274773.550</td>\n",
       "      <td>0.0</td>\n",
       "      <td>75819679.60</td>\n",
       "      <td>southeast</td>\n",
       "      <td>1136.3994</td>\n",
       "    </tr>\n",
       "    <tr>\n",
       "      <th>4</th>\n",
       "      <td>18.0</td>\n",
       "      <td>male</td>\n",
       "      <td>34.10</td>\n",
       "      <td>0.0</td>\n",
       "      <td>no</td>\n",
       "      <td>14697.85941</td>\n",
       "      <td>16.0</td>\n",
       "      <td>711584.0</td>\n",
       "      <td>3787293.921</td>\n",
       "      <td>0.0</td>\n",
       "      <td>23012320.01</td>\n",
       "      <td>southeast</td>\n",
       "      <td>1137.0110</td>\n",
       "    </tr>\n",
       "  </tbody>\n",
       "</table>\n",
       "</div>"
      ],
      "text/plain": [
       "    age   sex    bmi  children smoker  Claim_Amount  past_consultations  \\\n",
       "0  18.0  male  23.21       0.0     no   29087.54313                17.0   \n",
       "1  18.0  male  30.14       0.0     no   39053.67437                 7.0   \n",
       "2  18.0  male  33.33       0.0     no   39023.62759                19.0   \n",
       "3  18.0  male  33.66       0.0     no   28185.39332                11.0   \n",
       "4  18.0  male  34.10       0.0     no   14697.85941                16.0   \n",
       "\n",
       "   num_of_steps  Hospital_expenditure  NUmber_of_past_hospitalizations  \\\n",
       "0      715428.0           4720920.992                              0.0   \n",
       "1      699157.0           4329831.676                              0.0   \n",
       "2      702341.0           6884860.774                              0.0   \n",
       "3      700250.0           4274773.550                              0.0   \n",
       "4      711584.0           3787293.921                              0.0   \n",
       "\n",
       "   Anual_Salary     region    charges  \n",
       "0   55784970.05  southeast  1121.8739  \n",
       "1   13700885.19  southeast  1131.5066  \n",
       "2   73523107.27  southeast  1135.9407  \n",
       "3   75819679.60  southeast  1136.3994  \n",
       "4   23012320.01  southeast  1137.0110  "
      ]
     },
     "execution_count": 2,
     "metadata": {},
     "output_type": "execute_result"
    }
   ],
   "source": [
    "df = pd.read_csv(\"new_insurance_data (1) (1).csv\")\n",
    "df.head()"
   ]
  },
  {
   "cell_type": "code",
   "execution_count": 3,
   "metadata": {},
   "outputs": [
    {
     "data": {
      "text/plain": [
       "Index(['age', 'sex', 'bmi', 'children', 'smoker', 'Claim_Amount',\n",
       "       'past_consultations', 'num_of_steps', 'Hospital_expenditure',\n",
       "       'NUmber_of_past_hospitalizations', 'Anual_Salary', 'region', 'charges'],\n",
       "      dtype='object')"
      ]
     },
     "execution_count": 3,
     "metadata": {},
     "output_type": "execute_result"
    }
   ],
   "source": [
    "# EDA\n",
    "df.columns"
   ]
  },
  {
   "cell_type": "code",
   "execution_count": 4,
   "metadata": {},
   "outputs": [
    {
     "data": {
      "text/plain": [
       "age                                float64\n",
       "sex                                 object\n",
       "bmi                                float64\n",
       "children                           float64\n",
       "smoker                              object\n",
       "Claim_Amount                       float64\n",
       "past_consultations                 float64\n",
       "num_of_steps                       float64\n",
       "Hospital_expenditure               float64\n",
       "NUmber_of_past_hospitalizations    float64\n",
       "Anual_Salary                       float64\n",
       "region                              object\n",
       "charges                            float64\n",
       "dtype: object"
      ]
     },
     "execution_count": 4,
     "metadata": {},
     "output_type": "execute_result"
    }
   ],
   "source": [
    "df.dtypes"
   ]
  },
  {
   "cell_type": "code",
   "execution_count": 5,
   "metadata": {},
   "outputs": [
    {
     "name": "stdout",
     "output_type": "stream",
     "text": [
      "<class 'pandas.core.frame.DataFrame'>\n",
      "RangeIndex: 1338 entries, 0 to 1337\n",
      "Data columns (total 13 columns):\n",
      " #   Column                           Non-Null Count  Dtype  \n",
      "---  ------                           --------------  -----  \n",
      " 0   age                              1329 non-null   float64\n",
      " 1   sex                              1338 non-null   object \n",
      " 2   bmi                              1335 non-null   float64\n",
      " 3   children                         1333 non-null   float64\n",
      " 4   smoker                           1338 non-null   object \n",
      " 5   Claim_Amount                     1324 non-null   float64\n",
      " 6   past_consultations               1332 non-null   float64\n",
      " 7   num_of_steps                     1335 non-null   float64\n",
      " 8   Hospital_expenditure             1334 non-null   float64\n",
      " 9   NUmber_of_past_hospitalizations  1336 non-null   float64\n",
      " 10  Anual_Salary                     1332 non-null   float64\n",
      " 11  region                           1338 non-null   object \n",
      " 12  charges                          1338 non-null   float64\n",
      "dtypes: float64(10), object(3)\n",
      "memory usage: 136.0+ KB\n"
     ]
    }
   ],
   "source": [
    "df.info()"
   ]
  },
  {
   "cell_type": "code",
   "execution_count": 6,
   "metadata": {},
   "outputs": [
    {
     "data": {
      "text/plain": [
       "age                                 9\n",
       "sex                                 0\n",
       "bmi                                 3\n",
       "children                            5\n",
       "smoker                              0\n",
       "Claim_Amount                       14\n",
       "past_consultations                  6\n",
       "num_of_steps                        3\n",
       "Hospital_expenditure                4\n",
       "NUmber_of_past_hospitalizations     2\n",
       "Anual_Salary                        6\n",
       "region                              0\n",
       "charges                             0\n",
       "dtype: int64"
      ]
     },
     "execution_count": 6,
     "metadata": {},
     "output_type": "execute_result"
    }
   ],
   "source": [
    "df.isnull().sum()"
   ]
  },
  {
   "cell_type": "code",
   "execution_count": 7,
   "metadata": {},
   "outputs": [
    {
     "data": {
      "text/plain": [
       "(1338, 13)"
      ]
     },
     "execution_count": 7,
     "metadata": {},
     "output_type": "execute_result"
    }
   ],
   "source": [
    "df.shape"
   ]
  },
  {
   "cell_type": "code",
   "execution_count": 8,
   "metadata": {},
   "outputs": [
    {
     "data": {
      "text/html": [
       "<div>\n",
       "<style scoped>\n",
       "    .dataframe tbody tr th:only-of-type {\n",
       "        vertical-align: middle;\n",
       "    }\n",
       "\n",
       "    .dataframe tbody tr th {\n",
       "        vertical-align: top;\n",
       "    }\n",
       "\n",
       "    .dataframe thead th {\n",
       "        text-align: right;\n",
       "    }\n",
       "</style>\n",
       "<table border=\"1\" class=\"dataframe\">\n",
       "  <thead>\n",
       "    <tr style=\"text-align: right;\">\n",
       "      <th></th>\n",
       "      <th>count</th>\n",
       "      <th>mean</th>\n",
       "      <th>std</th>\n",
       "      <th>min</th>\n",
       "      <th>25%</th>\n",
       "      <th>50%</th>\n",
       "      <th>75%</th>\n",
       "      <th>max</th>\n",
       "    </tr>\n",
       "  </thead>\n",
       "  <tbody>\n",
       "    <tr>\n",
       "      <th>age</th>\n",
       "      <td>1329.0</td>\n",
       "      <td>3.931001e+01</td>\n",
       "      <td>1.403482e+01</td>\n",
       "      <td>1.800000e+01</td>\n",
       "      <td>2.700000e+01</td>\n",
       "      <td>3.900000e+01</td>\n",
       "      <td>5.100000e+01</td>\n",
       "      <td>6.400000e+01</td>\n",
       "    </tr>\n",
       "    <tr>\n",
       "      <th>bmi</th>\n",
       "      <td>1335.0</td>\n",
       "      <td>3.066511e+01</td>\n",
       "      <td>6.101690e+00</td>\n",
       "      <td>1.596000e+01</td>\n",
       "      <td>2.630250e+01</td>\n",
       "      <td>3.040000e+01</td>\n",
       "      <td>3.468750e+01</td>\n",
       "      <td>5.313000e+01</td>\n",
       "    </tr>\n",
       "    <tr>\n",
       "      <th>children</th>\n",
       "      <td>1333.0</td>\n",
       "      <td>1.090773e+00</td>\n",
       "      <td>1.201856e+00</td>\n",
       "      <td>0.000000e+00</td>\n",
       "      <td>0.000000e+00</td>\n",
       "      <td>1.000000e+00</td>\n",
       "      <td>2.000000e+00</td>\n",
       "      <td>5.000000e+00</td>\n",
       "    </tr>\n",
       "    <tr>\n",
       "      <th>Claim_Amount</th>\n",
       "      <td>1324.0</td>\n",
       "      <td>3.336133e+04</td>\n",
       "      <td>1.561729e+04</td>\n",
       "      <td>1.920136e+03</td>\n",
       "      <td>2.076886e+04</td>\n",
       "      <td>3.370031e+04</td>\n",
       "      <td>4.505233e+04</td>\n",
       "      <td>7.727799e+04</td>\n",
       "    </tr>\n",
       "    <tr>\n",
       "      <th>past_consultations</th>\n",
       "      <td>1332.0</td>\n",
       "      <td>1.521622e+01</td>\n",
       "      <td>7.467723e+00</td>\n",
       "      <td>1.000000e+00</td>\n",
       "      <td>9.000000e+00</td>\n",
       "      <td>1.500000e+01</td>\n",
       "      <td>2.000000e+01</td>\n",
       "      <td>4.000000e+01</td>\n",
       "    </tr>\n",
       "    <tr>\n",
       "      <th>num_of_steps</th>\n",
       "      <td>1335.0</td>\n",
       "      <td>9.100047e+05</td>\n",
       "      <td>9.188612e+04</td>\n",
       "      <td>6.954300e+05</td>\n",
       "      <td>8.471995e+05</td>\n",
       "      <td>9.143000e+05</td>\n",
       "      <td>9.716840e+05</td>\n",
       "      <td>1.107872e+06</td>\n",
       "    </tr>\n",
       "    <tr>\n",
       "      <th>Hospital_expenditure</th>\n",
       "      <td>1334.0</td>\n",
       "      <td>1.584179e+07</td>\n",
       "      <td>2.669305e+07</td>\n",
       "      <td>2.945253e+04</td>\n",
       "      <td>4.077633e+06</td>\n",
       "      <td>7.490337e+06</td>\n",
       "      <td>1.084082e+07</td>\n",
       "      <td>2.616317e+08</td>\n",
       "    </tr>\n",
       "    <tr>\n",
       "      <th>NUmber_of_past_hospitalizations</th>\n",
       "      <td>1336.0</td>\n",
       "      <td>1.060629e+00</td>\n",
       "      <td>5.335831e-01</td>\n",
       "      <td>0.000000e+00</td>\n",
       "      <td>1.000000e+00</td>\n",
       "      <td>1.000000e+00</td>\n",
       "      <td>1.000000e+00</td>\n",
       "      <td>3.000000e+00</td>\n",
       "    </tr>\n",
       "    <tr>\n",
       "      <th>Anual_Salary</th>\n",
       "      <td>1332.0</td>\n",
       "      <td>3.696849e+08</td>\n",
       "      <td>5.668843e+08</td>\n",
       "      <td>2.747072e+06</td>\n",
       "      <td>7.701932e+07</td>\n",
       "      <td>1.419361e+08</td>\n",
       "      <td>3.243499e+08</td>\n",
       "      <td>4.117197e+09</td>\n",
       "    </tr>\n",
       "    <tr>\n",
       "      <th>charges</th>\n",
       "      <td>1338.0</td>\n",
       "      <td>1.327042e+04</td>\n",
       "      <td>1.211001e+04</td>\n",
       "      <td>1.121874e+03</td>\n",
       "      <td>4.740287e+03</td>\n",
       "      <td>9.382033e+03</td>\n",
       "      <td>1.663991e+04</td>\n",
       "      <td>6.377043e+04</td>\n",
       "    </tr>\n",
       "  </tbody>\n",
       "</table>\n",
       "</div>"
      ],
      "text/plain": [
       "                                  count          mean           std  \\\n",
       "age                              1329.0  3.931001e+01  1.403482e+01   \n",
       "bmi                              1335.0  3.066511e+01  6.101690e+00   \n",
       "children                         1333.0  1.090773e+00  1.201856e+00   \n",
       "Claim_Amount                     1324.0  3.336133e+04  1.561729e+04   \n",
       "past_consultations               1332.0  1.521622e+01  7.467723e+00   \n",
       "num_of_steps                     1335.0  9.100047e+05  9.188612e+04   \n",
       "Hospital_expenditure             1334.0  1.584179e+07  2.669305e+07   \n",
       "NUmber_of_past_hospitalizations  1336.0  1.060629e+00  5.335831e-01   \n",
       "Anual_Salary                     1332.0  3.696849e+08  5.668843e+08   \n",
       "charges                          1338.0  1.327042e+04  1.211001e+04   \n",
       "\n",
       "                                          min           25%           50%  \\\n",
       "age                              1.800000e+01  2.700000e+01  3.900000e+01   \n",
       "bmi                              1.596000e+01  2.630250e+01  3.040000e+01   \n",
       "children                         0.000000e+00  0.000000e+00  1.000000e+00   \n",
       "Claim_Amount                     1.920136e+03  2.076886e+04  3.370031e+04   \n",
       "past_consultations               1.000000e+00  9.000000e+00  1.500000e+01   \n",
       "num_of_steps                     6.954300e+05  8.471995e+05  9.143000e+05   \n",
       "Hospital_expenditure             2.945253e+04  4.077633e+06  7.490337e+06   \n",
       "NUmber_of_past_hospitalizations  0.000000e+00  1.000000e+00  1.000000e+00   \n",
       "Anual_Salary                     2.747072e+06  7.701932e+07  1.419361e+08   \n",
       "charges                          1.121874e+03  4.740287e+03  9.382033e+03   \n",
       "\n",
       "                                          75%           max  \n",
       "age                              5.100000e+01  6.400000e+01  \n",
       "bmi                              3.468750e+01  5.313000e+01  \n",
       "children                         2.000000e+00  5.000000e+00  \n",
       "Claim_Amount                     4.505233e+04  7.727799e+04  \n",
       "past_consultations               2.000000e+01  4.000000e+01  \n",
       "num_of_steps                     9.716840e+05  1.107872e+06  \n",
       "Hospital_expenditure             1.084082e+07  2.616317e+08  \n",
       "NUmber_of_past_hospitalizations  1.000000e+00  3.000000e+00  \n",
       "Anual_Salary                     3.243499e+08  4.117197e+09  \n",
       "charges                          1.663991e+04  6.377043e+04  "
      ]
     },
     "execution_count": 8,
     "metadata": {},
     "output_type": "execute_result"
    }
   ],
   "source": [
    "df.describe().T"
   ]
  },
  {
   "cell_type": "markdown",
   "metadata": {},
   "source": [
    "Null value removal using Immputation\n",
    "* **Mode : for categorical data**\n",
    "* **Mean/Median : for numerical data**\n",
    "* **Median : if there are outliers, better to use median**"
   ]
  },
  {
   "cell_type": "code",
   "execution_count": 9,
   "metadata": {},
   "outputs": [
    {
     "data": {
      "text/plain": [
       "age                                0\n",
       "sex                                0\n",
       "bmi                                0\n",
       "children                           0\n",
       "smoker                             0\n",
       "Claim_Amount                       0\n",
       "past_consultations                 0\n",
       "num_of_steps                       0\n",
       "Hospital_expenditure               0\n",
       "NUmber_of_past_hospitalizations    0\n",
       "Anual_Salary                       0\n",
       "region                             0\n",
       "charges                            0\n",
       "dtype: int64"
      ]
     },
     "execution_count": 9,
     "metadata": {},
     "output_type": "execute_result"
    }
   ],
   "source": [
    "df = df.dropna()\n",
    "df.isnull().sum()"
   ]
  },
  {
   "cell_type": "markdown",
   "metadata": {},
   "source": [
    "**Outlier**"
   ]
  },
  {
   "cell_type": "code",
   "execution_count": 10,
   "metadata": {},
   "outputs": [
    {
     "data": {
      "text/plain": [
       "<matplotlib.axes._subplots.AxesSubplot at 0x1b8fa85b108>"
      ]
     },
     "execution_count": 10,
     "metadata": {},
     "output_type": "execute_result"
    },
    {
     "data": {
      "image/png": "[encoded data removed]",
      "text/plain": [
       "<Figure size 432x288 with 1 Axes>"
      ]
     },
     "metadata": {
      "needs_background": "light"
     },
     "output_type": "display_data"
    }
   ],
   "source": [
    "sns.boxplot(df['charges'])"
   ]
  },
  {
   "cell_type": "code",
   "execution_count": 11,
   "metadata": {},
   "outputs": [
    {
     "name": "stdout",
     "output_type": "stream",
     "text": [
      "q1 =  4842.251225\n",
      "q3 =  16964.132700000002\n"
     ]
    }
   ],
   "source": [
    "q1 = df['charges'].quantile(0.25)\n",
    "q3 = df['charges'].quantile(0.75)\n",
    "print(\"q1 = \",q1)\n",
    "print(\"q3 = \",q3)"
   ]
  },
  {
   "cell_type": "code",
   "execution_count": 12,
   "metadata": {},
   "outputs": [
    {
     "name": "stdout",
     "output_type": "stream",
     "text": [
      "12121.881475000002\n"
     ]
    }
   ],
   "source": [
    "IQR = q3 - q1\n",
    "print(IQR)"
   ]
  },
  {
   "cell_type": "code",
   "execution_count": 13,
   "metadata": {},
   "outputs": [
    {
     "name": "stdout",
     "output_type": "stream",
     "text": [
      "lower fence =  -13340.570987500003\n",
      "upper fence =  35146.954912500005\n"
     ]
    }
   ],
   "source": [
    "lb = q1 - 1.5*IQR\n",
    "ub = q3 + 1.5*IQR\n",
    "print(\"lower fence = \",lb)\n",
    "print(\"upper fence = \",ub)"
   ]
  },
  {
   "cell_type": "code",
   "execution_count": 14,
   "metadata": {},
   "outputs": [
    {
     "data": {
      "text/html": [
       "<div>\n",
       "<style scoped>\n",
       "    .dataframe tbody tr th:only-of-type {\n",
       "        vertical-align: middle;\n",
       "    }\n",
       "\n",
       "    .dataframe tbody tr th {\n",
       "        vertical-align: top;\n",
       "    }\n",
       "\n",
       "    .dataframe thead th {\n",
       "        text-align: right;\n",
       "    }\n",
       "</style>\n",
       "<table border=\"1\" class=\"dataframe\">\n",
       "  <thead>\n",
       "    <tr style=\"text-align: right;\">\n",
       "      <th></th>\n",
       "      <th>count</th>\n",
       "      <th>mean</th>\n",
       "      <th>std</th>\n",
       "      <th>min</th>\n",
       "      <th>25%</th>\n",
       "      <th>50%</th>\n",
       "      <th>75%</th>\n",
       "      <th>max</th>\n",
       "    </tr>\n",
       "  </thead>\n",
       "  <tbody>\n",
       "    <tr>\n",
       "      <th>age</th>\n",
       "      <td>1287.0</td>\n",
       "      <td>3.941958e+01</td>\n",
       "      <td>1.405199e+01</td>\n",
       "      <td>1.800000e+01</td>\n",
       "      <td>2.700000e+01</td>\n",
       "      <td>4.000000e+01</td>\n",
       "      <td>5.100000e+01</td>\n",
       "      <td>6.400000e+01</td>\n",
       "    </tr>\n",
       "    <tr>\n",
       "      <th>bmi</th>\n",
       "      <td>1287.0</td>\n",
       "      <td>3.065575e+01</td>\n",
       "      <td>6.086323e+00</td>\n",
       "      <td>1.596000e+01</td>\n",
       "      <td>2.622000e+01</td>\n",
       "      <td>3.036000e+01</td>\n",
       "      <td>3.460000e+01</td>\n",
       "      <td>5.313000e+01</td>\n",
       "    </tr>\n",
       "    <tr>\n",
       "      <th>children</th>\n",
       "      <td>1287.0</td>\n",
       "      <td>1.094794e+00</td>\n",
       "      <td>1.202782e+00</td>\n",
       "      <td>0.000000e+00</td>\n",
       "      <td>0.000000e+00</td>\n",
       "      <td>1.000000e+00</td>\n",
       "      <td>2.000000e+00</td>\n",
       "      <td>5.000000e+00</td>\n",
       "    </tr>\n",
       "    <tr>\n",
       "      <th>Claim_Amount</th>\n",
       "      <td>1287.0</td>\n",
       "      <td>3.349858e+04</td>\n",
       "      <td>1.561172e+04</td>\n",
       "      <td>2.912591e+03</td>\n",
       "      <td>2.090597e+04</td>\n",
       "      <td>3.396877e+04</td>\n",
       "      <td>4.515241e+04</td>\n",
       "      <td>7.727799e+04</td>\n",
       "    </tr>\n",
       "    <tr>\n",
       "      <th>past_consultations</th>\n",
       "      <td>1287.0</td>\n",
       "      <td>1.524709e+01</td>\n",
       "      <td>7.457366e+00</td>\n",
       "      <td>1.000000e+00</td>\n",
       "      <td>9.000000e+00</td>\n",
       "      <td>1.500000e+01</td>\n",
       "      <td>2.000000e+01</td>\n",
       "      <td>4.000000e+01</td>\n",
       "    </tr>\n",
       "    <tr>\n",
       "      <th>num_of_steps</th>\n",
       "      <td>1287.0</td>\n",
       "      <td>9.113778e+05</td>\n",
       "      <td>9.083364e+04</td>\n",
       "      <td>6.991570e+05</td>\n",
       "      <td>8.489270e+05</td>\n",
       "      <td>9.152840e+05</td>\n",
       "      <td>9.726140e+05</td>\n",
       "      <td>1.107872e+06</td>\n",
       "    </tr>\n",
       "    <tr>\n",
       "      <th>Hospital_expenditure</th>\n",
       "      <td>1287.0</td>\n",
       "      <td>1.579929e+07</td>\n",
       "      <td>2.653821e+07</td>\n",
       "      <td>2.945253e+04</td>\n",
       "      <td>4.114357e+06</td>\n",
       "      <td>7.567064e+06</td>\n",
       "      <td>1.093014e+07</td>\n",
       "      <td>2.616317e+08</td>\n",
       "    </tr>\n",
       "    <tr>\n",
       "      <th>NUmber_of_past_hospitalizations</th>\n",
       "      <td>1287.0</td>\n",
       "      <td>1.068376e+00</td>\n",
       "      <td>5.290789e-01</td>\n",
       "      <td>0.000000e+00</td>\n",
       "      <td>1.000000e+00</td>\n",
       "      <td>1.000000e+00</td>\n",
       "      <td>1.000000e+00</td>\n",
       "      <td>3.000000e+00</td>\n",
       "    </tr>\n",
       "    <tr>\n",
       "      <th>Anual_Salary</th>\n",
       "      <td>1287.0</td>\n",
       "      <td>3.727972e+08</td>\n",
       "      <td>5.655770e+08</td>\n",
       "      <td>3.150786e+06</td>\n",
       "      <td>7.964523e+07</td>\n",
       "      <td>1.451129e+08</td>\n",
       "      <td>3.337660e+08</td>\n",
       "      <td>4.117197e+09</td>\n",
       "    </tr>\n",
       "    <tr>\n",
       "      <th>charges</th>\n",
       "      <td>1287.0</td>\n",
       "      <td>1.336607e+04</td>\n",
       "      <td>1.202582e+04</td>\n",
       "      <td>1.121874e+03</td>\n",
       "      <td>4.842251e+03</td>\n",
       "      <td>9.549565e+03</td>\n",
       "      <td>1.696413e+04</td>\n",
       "      <td>6.377043e+04</td>\n",
       "    </tr>\n",
       "  </tbody>\n",
       "</table>\n",
       "</div>"
      ],
      "text/plain": [
       "                                  count          mean           std  \\\n",
       "age                              1287.0  3.941958e+01  1.405199e+01   \n",
       "bmi                              1287.0  3.065575e+01  6.086323e+00   \n",
       "children                         1287.0  1.094794e+00  1.202782e+00   \n",
       "Claim_Amount                     1287.0  3.349858e+04  1.561172e+04   \n",
       "past_consultations               1287.0  1.524709e+01  7.457366e+00   \n",
       "num_of_steps                     1287.0  9.113778e+05  9.083364e+04   \n",
       "Hospital_expenditure             1287.0  1.579929e+07  2.653821e+07   \n",
       "NUmber_of_past_hospitalizations  1287.0  1.068376e+00  5.290789e-01   \n",
       "Anual_Salary                     1287.0  3.727972e+08  5.655770e+08   \n",
       "charges                          1287.0  1.336607e+04  1.202582e+04   \n",
       "\n",
       "                                          min           25%           50%  \\\n",
       "age                              1.800000e+01  2.700000e+01  4.000000e+01   \n",
       "bmi                              1.596000e+01  2.622000e+01  3.036000e+01   \n",
       "children                         0.000000e+00  0.000000e+00  1.000000e+00   \n",
       "Claim_Amount                     2.912591e+03  2.090597e+04  3.396877e+04   \n",
       "past_consultations               1.000000e+00  9.000000e+00  1.500000e+01   \n",
       "num_of_steps                     6.991570e+05  8.489270e+05  9.152840e+05   \n",
       "Hospital_expenditure             2.945253e+04  4.114357e+06  7.567064e+06   \n",
       "NUmber_of_past_hospitalizations  0.000000e+00  1.000000e+00  1.000000e+00   \n",
       "Anual_Salary                     3.150786e+06  7.964523e+07  1.451129e+08   \n",
       "charges                          1.121874e+03  4.842251e+03  9.549565e+03   \n",
       "\n",
       "                                          75%           max  \n",
       "age                              5.100000e+01  6.400000e+01  \n",
       "bmi                              3.460000e+01  5.313000e+01  \n",
       "children                         2.000000e+00  5.000000e+00  \n",
       "Claim_Amount                     4.515241e+04  7.727799e+04  \n",
       "past_consultations               2.000000e+01  4.000000e+01  \n",
       "num_of_steps                     9.726140e+05  1.107872e+06  \n",
       "Hospital_expenditure             1.093014e+07  2.616317e+08  \n",
       "NUmber_of_past_hospitalizations  1.000000e+00  3.000000e+00  \n",
       "Anual_Salary                     3.337660e+08  4.117197e+09  \n",
       "charges                          1.696413e+04  6.377043e+04  "
      ]
     },
     "execution_count": 14,
     "metadata": {},
     "output_type": "execute_result"
    }
   ],
   "source": [
    "df.describe().T"
   ]
  },
  {
   "cell_type": "markdown",
   "metadata": {},
   "source": [
    "**Distributions**"
   ]
  },
  {
   "cell_type": "code",
   "execution_count": 15,
   "metadata": {},
   "outputs": [
    {
     "data": {
      "text/plain": [
       "<matplotlib.axes._subplots.AxesSubplot at 0x1b8fc228ec8>"
      ]
     },
     "execution_count": 15,
     "metadata": {},
     "output_type": "execute_result"
    },
    {
     "data": {
      "image/png": "[encoded data removed]",
      "text/plain": [
       "<Figure size 432x288 with 1 Axes>"
      ]
     },
     "metadata": {
      "needs_background": "light"
     },
     "output_type": "display_data"
    }
   ],
   "source": [
    "sns.distplot(df['age'])"
   ]
  },
  {
   "cell_type": "code",
   "execution_count": 16,
   "metadata": {},
   "outputs": [
    {
     "data": {
      "text/plain": [
       "<matplotlib.axes._subplots.AxesSubplot at 0x1b8fc309088>"
      ]
     },
     "execution_count": 16,
     "metadata": {},
     "output_type": "execute_result"
    },
    {
     "data": {
      "image/png": "[encoded data removed]",
      "text/plain": [
       "<Figure size 432x288 with 1 Axes>"
      ]
     },
     "metadata": {
      "needs_background": "light"
     },
     "output_type": "display_data"
    }
   ],
   "source": [
    "sns.distplot(df['bmi'])               # normal distribution"
   ]
  },
  {
   "cell_type": "code",
   "execution_count": 17,
   "metadata": {},
   "outputs": [
    {
     "data": {
      "text/plain": [
       "<matplotlib.axes._subplots.AxesSubplot at 0x1b8fc39f688>"
      ]
     },
     "execution_count": 17,
     "metadata": {},
     "output_type": "execute_result"
    },
    {
     "data": {
      "image/png": "[encoded data removed]",
      "text/plain": [
       "<Figure size 432x288 with 1 Axes>"
      ]
     },
     "metadata": {
      "needs_background": "light"
     },
     "output_type": "display_data"
    }
   ],
   "source": [
    "sns.distplot(df['Claim_Amount'])                   # left skewed"
   ]
  },
  {
   "cell_type": "code",
   "execution_count": 18,
   "metadata": {},
   "outputs": [
    {
     "data": {
      "text/plain": [
       "<matplotlib.axes._subplots.AxesSubplot at 0x1b8fc450448>"
      ]
     },
     "execution_count": 18,
     "metadata": {},
     "output_type": "execute_result"
    },
    {
     "data": {
      "image/png": "[encoded data removed]",
      "text/plain": [
       "<Figure size 432x288 with 1 Axes>"
      ]
     },
     "metadata": {
      "needs_background": "light"
     },
     "output_type": "display_data"
    }
   ],
   "source": [
    "sns.countplot(x=df['sex'])"
   ]
  },
  {
   "cell_type": "code",
   "execution_count": 19,
   "metadata": {},
   "outputs": [
    {
     "data": {
      "text/plain": [
       "<matplotlib.axes._subplots.AxesSubplot at 0x1b8fc49a908>"
      ]
     },
     "execution_count": 19,
     "metadata": {},
     "output_type": "execute_result"
    },
    {
     "data": {
      "image/png": "[encoded data removed]",
      "text/plain": [
       "<Figure size 432x288 with 1 Axes>"
      ]
     },
     "metadata": {
      "needs_background": "light"
     },
     "output_type": "display_data"
    }
   ],
   "source": [
    "sns.countplot(x=df['smoker'])"
   ]
  },
  {
   "cell_type": "code",
   "execution_count": 20,
   "metadata": {},
   "outputs": [
    {
     "data": {
      "text/plain": [
       "<matplotlib.axes._subplots.AxesSubplot at 0x1b8fc4e8888>"
      ]
     },
     "execution_count": 20,
     "metadata": {},
     "output_type": "execute_result"
    },
    {
     "data": {
      "image/png": "[encoded data removed]",
      "text/plain": [
       "<Figure size 432x288 with 1 Axes>"
      ]
     },
     "metadata": {
      "needs_background": "light"
     },
     "output_type": "display_data"
    }
   ],
   "source": [
    "sns.countplot(x=df['region'])"
   ]
  },
  {
   "cell_type": "markdown",
   "metadata": {},
   "source": [
    "**Encoding - Object Data**"
   ]
  },
  {
   "cell_type": "code",
   "execution_count": 21,
   "metadata": {},
   "outputs": [
    {
     "data": {
      "text/plain": [
       "age                                float64\n",
       "sex                                 object\n",
       "bmi                                float64\n",
       "children                           float64\n",
       "smoker                              object\n",
       "Claim_Amount                       float64\n",
       "past_consultations                 float64\n",
       "num_of_steps                       float64\n",
       "Hospital_expenditure               float64\n",
       "NUmber_of_past_hospitalizations    float64\n",
       "Anual_Salary                       float64\n",
       "region                              object\n",
       "charges                            float64\n",
       "dtype: object"
      ]
     },
     "execution_count": 21,
     "metadata": {},
     "output_type": "execute_result"
    }
   ],
   "source": [
    "df.dtypes"
   ]
  },
  {
   "cell_type": "code",
   "execution_count": 22,
   "metadata": {},
   "outputs": [
    {
     "data": {
      "text/plain": [
       "female    648\n",
       "male      639\n",
       "Name: sex, dtype: int64"
      ]
     },
     "execution_count": 22,
     "metadata": {},
     "output_type": "execute_result"
    }
   ],
   "source": [
    "df['sex'].value_counts()"
   ]
  },
  {
   "cell_type": "code",
   "execution_count": 23,
   "metadata": {},
   "outputs": [],
   "source": [
    "from sklearn.preprocessing import LabelEncoder"
   ]
  },
  {
   "cell_type": "code",
   "execution_count": 24,
   "metadata": {},
   "outputs": [],
   "source": [
    "le = LabelEncoder()"
   ]
  },
  {
   "cell_type": "code",
   "execution_count": 25,
   "metadata": {},
   "outputs": [],
   "source": [
    "df['sex'] = le.fit_transform(df['sex'])"
   ]
  },
  {
   "cell_type": "code",
   "execution_count": 26,
   "metadata": {},
   "outputs": [
    {
     "data": {
      "text/plain": [
       "0    648\n",
       "1    639\n",
       "Name: sex, dtype: int64"
      ]
     },
     "execution_count": 26,
     "metadata": {},
     "output_type": "execute_result"
    }
   ],
   "source": [
    "df['sex'].value_counts()"
   ]
  },
  {
   "cell_type": "code",
   "execution_count": 27,
   "metadata": {},
   "outputs": [],
   "source": [
    "df['smoker'] = le.fit_transform(df['smoker'])\n",
    "df['region'] = le.fit_transform(df['region'])"
   ]
  },
  {
   "cell_type": "code",
   "execution_count": 28,
   "metadata": {},
   "outputs": [
    {
     "data": {
      "text/plain": [
       "0    1023\n",
       "1     264\n",
       "Name: smoker, dtype: int64"
      ]
     },
     "execution_count": 28,
     "metadata": {},
     "output_type": "execute_result"
    }
   ],
   "source": [
    "df['smoker'].value_counts()"
   ]
  },
  {
   "cell_type": "code",
   "execution_count": 29,
   "metadata": {},
   "outputs": [
    {
     "data": {
      "text/plain": [
       "2    347\n",
       "0    316\n",
       "1    314\n",
       "3    310\n",
       "Name: region, dtype: int64"
      ]
     },
     "execution_count": 29,
     "metadata": {},
     "output_type": "execute_result"
    }
   ],
   "source": [
    "df['region'].value_counts()"
   ]
  },
  {
   "cell_type": "code",
   "execution_count": 30,
   "metadata": {},
   "outputs": [
    {
     "data": {
      "text/plain": [
       "age                                float64\n",
       "sex                                  int32\n",
       "bmi                                float64\n",
       "children                           float64\n",
       "smoker                               int32\n",
       "Claim_Amount                       float64\n",
       "past_consultations                 float64\n",
       "num_of_steps                       float64\n",
       "Hospital_expenditure               float64\n",
       "NUmber_of_past_hospitalizations    float64\n",
       "Anual_Salary                       float64\n",
       "region                               int32\n",
       "charges                            float64\n",
       "dtype: object"
      ]
     },
     "execution_count": 30,
     "metadata": {},
     "output_type": "execute_result"
    }
   ],
   "source": [
    "df.dtypes"
   ]
  },
  {
   "cell_type": "code",
   "execution_count": 31,
   "metadata": {},
   "outputs": [
    {
     "data": {
      "text/html": [
       "<div>\n",
       "<style scoped>\n",
       "    .dataframe tbody tr th:only-of-type {\n",
       "        vertical-align: middle;\n",
       "    }\n",
       "\n",
       "    .dataframe tbody tr th {\n",
       "        vertical-align: top;\n",
       "    }\n",
       "\n",
       "    .dataframe thead th {\n",
       "        text-align: right;\n",
       "    }\n",
       "</style>\n",
       "<table border=\"1\" class=\"dataframe\">\n",
       "  <thead>\n",
       "    <tr style=\"text-align: right;\">\n",
       "      <th></th>\n",
       "      <th>age</th>\n",
       "      <th>sex</th>\n",
       "      <th>bmi</th>\n",
       "      <th>children</th>\n",
       "      <th>smoker</th>\n",
       "      <th>Claim_Amount</th>\n",
       "      <th>past_consultations</th>\n",
       "      <th>num_of_steps</th>\n",
       "      <th>Hospital_expenditure</th>\n",
       "      <th>NUmber_of_past_hospitalizations</th>\n",
       "      <th>Anual_Salary</th>\n",
       "      <th>region</th>\n",
       "      <th>charges</th>\n",
       "    </tr>\n",
       "  </thead>\n",
       "  <tbody>\n",
       "    <tr>\n",
       "      <th>0</th>\n",
       "      <td>18.0</td>\n",
       "      <td>1</td>\n",
       "      <td>23.21</td>\n",
       "      <td>0.0</td>\n",
       "      <td>0</td>\n",
       "      <td>29087.54313</td>\n",
       "      <td>17.0</td>\n",
       "      <td>715428.0</td>\n",
       "      <td>4720920.992</td>\n",
       "      <td>0.0</td>\n",
       "      <td>55784970.05</td>\n",
       "      <td>2</td>\n",
       "      <td>1121.8739</td>\n",
       "    </tr>\n",
       "    <tr>\n",
       "      <th>1</th>\n",
       "      <td>18.0</td>\n",
       "      <td>1</td>\n",
       "      <td>30.14</td>\n",
       "      <td>0.0</td>\n",
       "      <td>0</td>\n",
       "      <td>39053.67437</td>\n",
       "      <td>7.0</td>\n",
       "      <td>699157.0</td>\n",
       "      <td>4329831.676</td>\n",
       "      <td>0.0</td>\n",
       "      <td>13700885.19</td>\n",
       "      <td>2</td>\n",
       "      <td>1131.5066</td>\n",
       "    </tr>\n",
       "  </tbody>\n",
       "</table>\n",
       "</div>"
      ],
      "text/plain": [
       "    age  sex    bmi  children  smoker  Claim_Amount  past_consultations  \\\n",
       "0  18.0    1  23.21       0.0       0   29087.54313                17.0   \n",
       "1  18.0    1  30.14       0.0       0   39053.67437                 7.0   \n",
       "\n",
       "   num_of_steps  Hospital_expenditure  NUmber_of_past_hospitalizations  \\\n",
       "0      715428.0           4720920.992                              0.0   \n",
       "1      699157.0           4329831.676                              0.0   \n",
       "\n",
       "   Anual_Salary  region    charges  \n",
       "0   55784970.05       2  1121.8739  \n",
       "1   13700885.19       2  1131.5066  "
      ]
     },
     "execution_count": 31,
     "metadata": {},
     "output_type": "execute_result"
    }
   ],
   "source": [
    "df.head(2)"
   ]
  },
  {
   "cell_type": "markdown",
   "metadata": {},
   "source": [
    "**Splitting the Data : Train & Test**"
   ]
  },
  {
   "cell_type": "code",
   "execution_count": 32,
   "metadata": {},
   "outputs": [
    {
     "data": {
      "text/plain": [
       "Index(['age', 'sex', 'bmi', 'children', 'smoker', 'Claim_Amount',\n",
       "       'past_consultations', 'num_of_steps', 'Hospital_expenditure',\n",
       "       'NUmber_of_past_hospitalizations', 'Anual_Salary', 'region', 'charges'],\n",
       "      dtype='object')"
      ]
     },
     "execution_count": 32,
     "metadata": {},
     "output_type": "execute_result"
    }
   ],
   "source": [
    "df.columns"
   ]
  },
  {
   "cell_type": "code",
   "execution_count": 33,
   "metadata": {},
   "outputs": [],
   "source": [
    "x = df.drop(['charges'], axis=1)"
   ]
  },
  {
   "cell_type": "code",
   "execution_count": 34,
   "metadata": {},
   "outputs": [
    {
     "data": {
      "text/html": [
       "<div>\n",
       "<style scoped>\n",
       "    .dataframe tbody tr th:only-of-type {\n",
       "        vertical-align: middle;\n",
       "    }\n",
       "\n",
       "    .dataframe tbody tr th {\n",
       "        vertical-align: top;\n",
       "    }\n",
       "\n",
       "    .dataframe thead th {\n",
       "        text-align: right;\n",
       "    }\n",
       "</style>\n",
       "<table border=\"1\" class=\"dataframe\">\n",
       "  <thead>\n",
       "    <tr style=\"text-align: right;\">\n",
       "      <th></th>\n",
       "      <th>age</th>\n",
       "      <th>sex</th>\n",
       "      <th>bmi</th>\n",
       "      <th>children</th>\n",
       "      <th>smoker</th>\n",
       "      <th>Claim_Amount</th>\n",
       "      <th>past_consultations</th>\n",
       "      <th>num_of_steps</th>\n",
       "      <th>Hospital_expenditure</th>\n",
       "      <th>NUmber_of_past_hospitalizations</th>\n",
       "      <th>Anual_Salary</th>\n",
       "      <th>region</th>\n",
       "    </tr>\n",
       "  </thead>\n",
       "  <tbody>\n",
       "    <tr>\n",
       "      <th>0</th>\n",
       "      <td>18.0</td>\n",
       "      <td>1</td>\n",
       "      <td>23.21</td>\n",
       "      <td>0.0</td>\n",
       "      <td>0</td>\n",
       "      <td>29087.54313</td>\n",
       "      <td>17.0</td>\n",
       "      <td>715428.0</td>\n",
       "      <td>4720920.992</td>\n",
       "      <td>0.0</td>\n",
       "      <td>55784970.05</td>\n",
       "      <td>2</td>\n",
       "    </tr>\n",
       "    <tr>\n",
       "      <th>1</th>\n",
       "      <td>18.0</td>\n",
       "      <td>1</td>\n",
       "      <td>30.14</td>\n",
       "      <td>0.0</td>\n",
       "      <td>0</td>\n",
       "      <td>39053.67437</td>\n",
       "      <td>7.0</td>\n",
       "      <td>699157.0</td>\n",
       "      <td>4329831.676</td>\n",
       "      <td>0.0</td>\n",
       "      <td>13700885.19</td>\n",
       "      <td>2</td>\n",
       "    </tr>\n",
       "  </tbody>\n",
       "</table>\n",
       "</div>"
      ],
      "text/plain": [
       "    age  sex    bmi  children  smoker  Claim_Amount  past_consultations  \\\n",
       "0  18.0    1  23.21       0.0       0   29087.54313                17.0   \n",
       "1  18.0    1  30.14       0.0       0   39053.67437                 7.0   \n",
       "\n",
       "   num_of_steps  Hospital_expenditure  NUmber_of_past_hospitalizations  \\\n",
       "0      715428.0           4720920.992                              0.0   \n",
       "1      699157.0           4329831.676                              0.0   \n",
       "\n",
       "   Anual_Salary  region  \n",
       "0   55784970.05       2  \n",
       "1   13700885.19       2  "
      ]
     },
     "execution_count": 34,
     "metadata": {},
     "output_type": "execute_result"
    }
   ],
   "source": [
    "x.head(2)"
   ]
  },
  {
   "cell_type": "code",
   "execution_count": 35,
   "metadata": {},
   "outputs": [],
   "source": [
    "y = df['charges']"
   ]
  },
  {
   "cell_type": "code",
   "execution_count": 36,
   "metadata": {},
   "outputs": [
    {
     "data": {
      "text/plain": [
       "0        1121.87390\n",
       "1        1131.50660\n",
       "2        1135.94070\n",
       "3        1136.39940\n",
       "4        1137.01100\n",
       "           ...     \n",
       "1333    55135.40209\n",
       "1334    58571.07448\n",
       "1335    60021.39897\n",
       "1336    62592.87309\n",
       "1337    63770.42801\n",
       "Name: charges, Length: 1287, dtype: float64"
      ]
     },
     "execution_count": 36,
     "metadata": {},
     "output_type": "execute_result"
    }
   ],
   "source": [
    "y"
   ]
  },
  {
   "cell_type": "code",
   "execution_count": 37,
   "metadata": {},
   "outputs": [],
   "source": [
    "from sklearn.model_selection import train_test_split"
   ]
  },
  {
   "cell_type": "code",
   "execution_count": 38,
   "metadata": {},
   "outputs": [],
   "source": [
    "x_train,x_test,y_train,y_test = train_test_split(x, y, test_size = 0.2)"
   ]
  },
  {
   "cell_type": "markdown",
   "metadata": {},
   "source": [
    "**Model Building**\n",
    "* **Training the model**\n",
    "* **Testing the model : by doing predictions**\n",
    "* **Model Performance : Evaluating the model**"
   ]
  },
  {
   "cell_type": "code",
   "execution_count": 39,
   "metadata": {},
   "outputs": [],
   "source": [
    "from sklearn.linear_model import LinearRegression"
   ]
  },
  {
   "cell_type": "code",
   "execution_count": 40,
   "metadata": {},
   "outputs": [],
   "source": [
    "lr = LinearRegression() "
   ]
  },
  {
   "cell_type": "code",
   "execution_count": 41,
   "metadata": {},
   "outputs": [
    {
     "data": {
      "text/plain": [
       "LinearRegression(copy_X=True, fit_intercept=True, n_jobs=None, normalize=False)"
      ]
     },
     "execution_count": 41,
     "metadata": {},
     "output_type": "execute_result"
    }
   ],
   "source": [
    "# Training the model\n",
    "lr.fit(x_train, y_train)"
   ]
  },
  {
   "cell_type": "code",
   "execution_count": 42,
   "metadata": {},
   "outputs": [],
   "source": [
    "# Test the model\n",
    "y_pred = lr.predict(x_test)"
   ]
  },
  {
   "cell_type": "code",
   "execution_count": 43,
   "metadata": {},
   "outputs": [],
   "source": [
    "# Model Evaluation\n",
    "from sklearn.metrics import r2_score"
   ]
  },
  {
   "cell_type": "code",
   "execution_count": 44,
   "metadata": {},
   "outputs": [
    {
     "name": "stdout",
     "output_type": "stream",
     "text": [
      "0.9914337855494404\n"
     ]
    }
   ],
   "source": [
    "r2 = r2_score(y_test, y_pred)\n",
    "print(r2)"
   ]
  },
  {
   "cell_type": "markdown",
   "metadata": {},
   "source": [
    "**99% Accurancy --> Overfitting**\n",
    "* **Scaling the features**\n",
    "* **Feature Selection**\n",
    "* **Hyper-parameter tuning**"
   ]
  },
  {
   "cell_type": "code",
   "execution_count": 45,
   "metadata": {},
   "outputs": [],
   "source": [
    "# Scaling --> Standardization\n",
    "from sklearn.preprocessing import StandardScaler"
   ]
  },
  {
   "cell_type": "code",
   "execution_count": 46,
   "metadata": {},
   "outputs": [],
   "source": [
    "sc = StandardScaler()"
   ]
  },
  {
   "cell_type": "code",
   "execution_count": 47,
   "metadata": {},
   "outputs": [],
   "source": [
    "# scale the input data i.e. model input = x (train and test)\n",
    "xtrain = sc.fit_transform(x_train)\n",
    "xtest = sc.fit_transform(x_test)"
   ]
  },
  {
   "cell_type": "code",
   "execution_count": 48,
   "metadata": {},
   "outputs": [
    {
     "data": {
      "text/plain": [
       "LinearRegression(copy_X=True, fit_intercept=True, n_jobs=None, normalize=False)"
      ]
     },
     "execution_count": 48,
     "metadata": {},
     "output_type": "execute_result"
    }
   ],
   "source": [
    "# Re-traning the model with scaled data\n",
    "lr.fit(xtrain, y_train)"
   ]
  },
  {
   "cell_type": "code",
   "execution_count": 49,
   "metadata": {},
   "outputs": [],
   "source": [
    "# Re-test the model\n",
    "ypred = lr.predict(xtest)"
   ]
  },
  {
   "cell_type": "code",
   "execution_count": 50,
   "metadata": {},
   "outputs": [
    {
     "data": {
      "text/plain": [
       "0.989576389671543"
      ]
     },
     "execution_count": 50,
     "metadata": {},
     "output_type": "execute_result"
    }
   ],
   "source": [
    "# Evaluating the model\n",
    "r2_score(y_test, ypred)"
   ]
  },
  {
   "cell_type": "code",
   "execution_count": null,
   "metadata": {},
   "outputs": [],
   "source": []
  }
 ],
 "metadata": {
  "kernelspec": {
   "display_name": "Python 3",
   "language": "python",
   "name": "python3"
  },
  "language_info": {
   "codemirror_mode": {
    "name": "ipython",
    "version": 3
   },
   "file_extension": ".py",
   "mimetype": "text/x-python",
   "name": "python",
   "nbconvert_exporter": "python",
   "pygments_lexer": "ipython3",
   "version": "3.7.6"
  }
 },
 "nbformat": 4,
 "nbformat_minor": 4
}
